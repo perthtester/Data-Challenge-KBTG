{
 "cells": [
  {
   "cell_type": "markdown",
   "metadata": {},
   "source": [
    "# Load Data & Inspect"
   ]
  },
  {
   "cell_type": "code",
   "execution_count": 95,
   "metadata": {
    "collapsed": true
   },
   "outputs": [],
   "source": [
    "import pandas as pd\n",
    "%matplotlib inline"
   ]
  },
  {
   "cell_type": "code",
   "execution_count": 96,
   "metadata": {
    "collapsed": true
   },
   "outputs": [],
   "source": [
    "acc_transactions = pd.read_csv('tj_02_account_transaction.csv')\n",
    "card_transactions = pd.read_csv('tj_02_creditcard_transaction.csv', dtype={'card_no': object})\n",
    "# Specify dtype because pandas convert string to float, and many digits are gone\n",
    "acc_card = pd.read_csv('tj_02_acc_x_card.csv', dtype={'card_no': object})\n",
    "\n",
    "testdata = pd.read_csv('tj_02_test.csv', header=None)\n",
    "traindata = pd.read_csv('tj_02_training.csv', header=None)"
   ]
  },
  {
   "cell_type": "code",
   "execution_count": 97,
   "metadata": {
    "collapsed": true
   },
   "outputs": [],
   "source": [
    "traindata.columns = ['account_no', 'is_merchant']\n",
    "testdata.columns = ['account_no']"
   ]
  },
  {
   "cell_type": "code",
   "execution_count": 98,
   "metadata": {
    "scrolled": false
   },
   "outputs": [
    {
     "data": {
      "text/plain": [
       "count        2012569\n",
       "unique         16560\n",
       "top       3450001101\n",
       "freq           13447\n",
       "Name: account_no, dtype: object"
      ]
     },
     "execution_count": 98,
     "metadata": {},
     "output_type": "execute_result"
    }
   ],
   "source": [
    "acc_transactions['account_no'].astype(str).describe()"
   ]
  },
  {
   "cell_type": "code",
   "execution_count": 99,
   "metadata": {},
   "outputs": [
    {
     "data": {
      "text/plain": [
       "count          11652\n",
       "unique         11652\n",
       "top       3450016089\n",
       "freq               1\n",
       "Name: account_no, dtype: object"
      ]
     },
     "execution_count": 99,
     "metadata": {},
     "output_type": "execute_result"
    }
   ],
   "source": [
    "acc_card['account_no'].astype(str).describe()"
   ]
  },
  {
   "cell_type": "code",
   "execution_count": 100,
   "metadata": {},
   "outputs": [
    {
     "data": {
      "text/plain": [
       "count     11652\n",
       "unique     7368\n",
       "top         nan\n",
       "freq       4059\n",
       "Name: card_no, dtype: object"
      ]
     },
     "execution_count": 100,
     "metadata": {},
     "output_type": "execute_result"
    }
   ],
   "source": [
    "acc_card['card_no'].astype(str).describe()"
   ]
  },
  {
   "cell_type": "code",
   "execution_count": 101,
   "metadata": {
    "scrolled": true
   },
   "outputs": [
    {
     "data": {
      "text/html": [
       "<div>\n",
       "<table border=\"1\" class=\"dataframe\">\n",
       "  <thead>\n",
       "    <tr style=\"text-align: right;\">\n",
       "      <th></th>\n",
       "      <th>account_no</th>\n",
       "      <th>from_to_account_no</th>\n",
       "      <th>txn_amount</th>\n",
       "      <th>txn_dt</th>\n",
       "      <th>txn_hour</th>\n",
       "      <th>txn_type</th>\n",
       "    </tr>\n",
       "  </thead>\n",
       "  <tbody>\n",
       "    <tr>\n",
       "      <th>0</th>\n",
       "      <td>3450045224</td>\n",
       "      <td>0</td>\n",
       "      <td>50</td>\n",
       "      <td>2016-04-03</td>\n",
       "      <td>17</td>\n",
       "      <td>DR</td>\n",
       "    </tr>\n",
       "    <tr>\n",
       "      <th>1</th>\n",
       "      <td>3450034734</td>\n",
       "      <td>0</td>\n",
       "      <td>10000</td>\n",
       "      <td>2016-10-07</td>\n",
       "      <td>13</td>\n",
       "      <td>DR</td>\n",
       "    </tr>\n",
       "    <tr>\n",
       "      <th>2</th>\n",
       "      <td>3450019126</td>\n",
       "      <td>3450594449</td>\n",
       "      <td>800</td>\n",
       "      <td>2016-10-03</td>\n",
       "      <td>18</td>\n",
       "      <td>CR</td>\n",
       "    </tr>\n",
       "    <tr>\n",
       "      <th>3</th>\n",
       "      <td>3450028971</td>\n",
       "      <td>3450596508</td>\n",
       "      <td>8650</td>\n",
       "      <td>2016-10-03</td>\n",
       "      <td>21</td>\n",
       "      <td>DR</td>\n",
       "    </tr>\n",
       "    <tr>\n",
       "      <th>4</th>\n",
       "      <td>3450000833</td>\n",
       "      <td>0</td>\n",
       "      <td>10000</td>\n",
       "      <td>2016-06-22</td>\n",
       "      <td>22</td>\n",
       "      <td>DR</td>\n",
       "    </tr>\n",
       "  </tbody>\n",
       "</table>\n",
       "</div>"
      ],
      "text/plain": [
       "   account_no  from_to_account_no  txn_amount      txn_dt  txn_hour txn_type\n",
       "0  3450045224                   0          50  2016-04-03        17       DR\n",
       "1  3450034734                   0       10000  2016-10-07        13       DR\n",
       "2  3450019126          3450594449         800  2016-10-03        18       CR\n",
       "3  3450028971          3450596508        8650  2016-10-03        21       DR\n",
       "4  3450000833                   0       10000  2016-06-22        22       DR"
      ]
     },
     "execution_count": 101,
     "metadata": {},
     "output_type": "execute_result"
    }
   ],
   "source": [
    "acc_transactions.head()"
   ]
  },
  {
   "cell_type": "code",
   "execution_count": 102,
   "metadata": {},
   "outputs": [
    {
     "data": {
      "text/plain": [
       "<matplotlib.axes._subplots.AxesSubplot at 0x12062d0b8>"
      ]
     },
     "execution_count": 102,
     "metadata": {},
     "output_type": "execute_result"
    },
    {
     "data": {
      "image/png": "[encoded data removed]",
      "text/plain": [
       "<matplotlib.figure.Figure at 0x120783cc0>"
      ]
     },
     "metadata": {},
     "output_type": "display_data"
    }
   ],
   "source": [
    "acc_transacitons['txn_amount'].plot(kind='box')"
   ]
  },
  {
   "cell_type": "code",
   "execution_count": 103,
   "metadata": {},
   "outputs": [
    {
     "data": {
      "text/html": [
       "<div>\n",
       "<table border=\"1\" class=\"dataframe\">\n",
       "  <thead>\n",
       "    <tr style=\"text-align: right;\">\n",
       "      <th></th>\n",
       "      <th>account_no</th>\n",
       "      <th>from_to_account_no</th>\n",
       "      <th>txn_amount</th>\n",
       "      <th>txn_hour</th>\n",
       "      <th>to_outside</th>\n",
       "    </tr>\n",
       "  </thead>\n",
       "  <tbody>\n",
       "    <tr>\n",
       "      <th>count</th>\n",
       "      <td>2.012569e+06</td>\n",
       "      <td>2.012569e+06</td>\n",
       "      <td>2.012569e+06</td>\n",
       "      <td>2.012569e+06</td>\n",
       "      <td>2.012569e+06</td>\n",
       "    </tr>\n",
       "    <tr>\n",
       "      <th>mean</th>\n",
       "      <td>3.450028e+09</td>\n",
       "      <td>1.999751e+09</td>\n",
       "      <td>5.045252e+03</td>\n",
       "      <td>1.400241e+01</td>\n",
       "      <td>5.795364e-01</td>\n",
       "    </tr>\n",
       "    <tr>\n",
       "      <th>std</th>\n",
       "      <td>1.489065e+04</td>\n",
       "      <td>1.703334e+09</td>\n",
       "      <td>3.200802e+04</td>\n",
       "      <td>4.855766e+00</td>\n",
       "      <td>4.936335e-01</td>\n",
       "    </tr>\n",
       "    <tr>\n",
       "      <th>min</th>\n",
       "      <td>3.450000e+09</td>\n",
       "      <td>0.000000e+00</td>\n",
       "      <td>5.000000e+01</td>\n",
       "      <td>0.000000e+00</td>\n",
       "      <td>0.000000e+00</td>\n",
       "    </tr>\n",
       "    <tr>\n",
       "      <th>25%</th>\n",
       "      <td>3.450016e+09</td>\n",
       "      <td>0.000000e+00</td>\n",
       "      <td>2.000000e+02</td>\n",
       "      <td>1.100000e+01</td>\n",
       "      <td>0.000000e+00</td>\n",
       "    </tr>\n",
       "    <tr>\n",
       "      <th>50%</th>\n",
       "      <td>3.450030e+09</td>\n",
       "      <td>3.450166e+09</td>\n",
       "      <td>5.500000e+02</td>\n",
       "      <td>1.400000e+01</td>\n",
       "      <td>1.000000e+00</td>\n",
       "    </tr>\n",
       "    <tr>\n",
       "      <th>75%</th>\n",
       "      <td>3.450041e+09</td>\n",
       "      <td>3.450698e+09</td>\n",
       "      <td>2.500000e+03</td>\n",
       "      <td>1.800000e+01</td>\n",
       "      <td>1.000000e+00</td>\n",
       "    </tr>\n",
       "    <tr>\n",
       "      <th>max</th>\n",
       "      <td>3.450050e+09</td>\n",
       "      <td>3.451196e+09</td>\n",
       "      <td>9.866600e+06</td>\n",
       "      <td>2.300000e+01</td>\n",
       "      <td>1.000000e+00</td>\n",
       "    </tr>\n",
       "  </tbody>\n",
       "</table>\n",
       "</div>"
      ],
      "text/plain": [
       "         account_no  from_to_account_no    txn_amount      txn_hour  \\\n",
       "count  2.012569e+06        2.012569e+06  2.012569e+06  2.012569e+06   \n",
       "mean   3.450028e+09        1.999751e+09  5.045252e+03  1.400241e+01   \n",
       "std    1.489065e+04        1.703334e+09  3.200802e+04  4.855766e+00   \n",
       "min    3.450000e+09        0.000000e+00  5.000000e+01  0.000000e+00   \n",
       "25%    3.450016e+09        0.000000e+00  2.000000e+02  1.100000e+01   \n",
       "50%    3.450030e+09        3.450166e+09  5.500000e+02  1.400000e+01   \n",
       "75%    3.450041e+09        3.450698e+09  2.500000e+03  1.800000e+01   \n",
       "max    3.450050e+09        3.451196e+09  9.866600e+06  2.300000e+01   \n",
       "\n",
       "         to_outside  \n",
       "count  2.012569e+06  \n",
       "mean   5.795364e-01  \n",
       "std    4.936335e-01  \n",
       "min    0.000000e+00  \n",
       "25%    0.000000e+00  \n",
       "50%    1.000000e+00  \n",
       "75%    1.000000e+00  \n",
       "max    1.000000e+00  "
      ]
     },
     "execution_count": 103,
     "metadata": {},
     "output_type": "execute_result"
    }
   ],
   "source": [
    "acc_transacitons.describe()"
   ]
  },
  {
   "cell_type": "code",
   "execution_count": 104,
   "metadata": {},
   "outputs": [
    {
     "data": {
      "text/html": [
       "<div>\n",
       "<table border=\"1\" class=\"dataframe\">\n",
       "  <thead>\n",
       "    <tr style=\"text-align: right;\">\n",
       "      <th></th>\n",
       "      <th>txn_dt</th>\n",
       "      <th>txn_type</th>\n",
       "    </tr>\n",
       "  </thead>\n",
       "  <tbody>\n",
       "    <tr>\n",
       "      <th>count</th>\n",
       "      <td>2012569</td>\n",
       "      <td>2012569</td>\n",
       "    </tr>\n",
       "    <tr>\n",
       "      <th>unique</th>\n",
       "      <td>261</td>\n",
       "      <td>2</td>\n",
       "    </tr>\n",
       "    <tr>\n",
       "      <th>top</th>\n",
       "      <td>2016-08-31</td>\n",
       "      <td>CR</td>\n",
       "    </tr>\n",
       "    <tr>\n",
       "      <th>freq</th>\n",
       "      <td>11662</td>\n",
       "      <td>1062231</td>\n",
       "    </tr>\n",
       "  </tbody>\n",
       "</table>\n",
       "</div>"
      ],
      "text/plain": [
       "            txn_dt txn_type\n",
       "count      2012569  2012569\n",
       "unique         261        2\n",
       "top     2016-08-31       CR\n",
       "freq         11662  1062231"
      ]
     },
     "execution_count": 104,
     "metadata": {},
     "output_type": "execute_result"
    }
   ],
   "source": [
    "acc_transacitons.describe(include=['O'])"
   ]
  },
  {
   "cell_type": "code",
   "execution_count": 105,
   "metadata": {
    "collapsed": true
   },
   "outputs": [],
   "source": [
    "# Add to outside feature\n",
    "acc_transacitons['to_outside'] = (acc_transacitons['from_to_account_no'] > 0).astype('int')"
   ]
  },
  {
   "cell_type": "code",
   "execution_count": 106,
   "metadata": {
    "scrolled": true
   },
   "outputs": [
    {
     "data": {
      "text/html": [
       "<div>\n",
       "<table border=\"1\" class=\"dataframe\">\n",
       "  <thead>\n",
       "    <tr style=\"text-align: right;\">\n",
       "      <th>txn_type</th>\n",
       "      <th>CR</th>\n",
       "      <th>DR</th>\n",
       "    </tr>\n",
       "    <tr>\n",
       "      <th>to_outside</th>\n",
       "      <th></th>\n",
       "      <th></th>\n",
       "    </tr>\n",
       "  </thead>\n",
       "  <tbody>\n",
       "    <tr>\n",
       "      <th>0</th>\n",
       "      <td>324571</td>\n",
       "      <td>521641</td>\n",
       "    </tr>\n",
       "    <tr>\n",
       "      <th>1</th>\n",
       "      <td>737660</td>\n",
       "      <td>428697</td>\n",
       "    </tr>\n",
       "  </tbody>\n",
       "</table>\n",
       "</div>"
      ],
      "text/plain": [
       "txn_type        CR      DR\n",
       "to_outside                \n",
       "0           324571  521641\n",
       "1           737660  428697"
      ]
     },
     "execution_count": 106,
     "metadata": {},
     "output_type": "execute_result"
    }
   ],
   "source": [
    "pd.crosstab(acc_transacitons['to_outside'], acc_transacitons['txn_type'])"
   ]
  },
  {
   "cell_type": "markdown",
   "metadata": {},
   "source": [
    "## Create feature from 1st table"
   ]
  },
  {
   "cell_type": "code",
   "execution_count": 107,
   "metadata": {
    "collapsed": true
   },
   "outputs": [],
   "source": [
    "# Create deposit feature\n",
    "acc_outside = acc_transacitons[['account_no', 'to_outside']].groupby('account_no').agg(['sum', 'count'])\n",
    "\n",
    "acc_outside_df = pd.DataFrame({\n",
    "    'outside_count': acc_outside['to_outside']['sum'],\n",
    "    'all_count': acc_outside['to_outside']['count'],\n",
    "    'outside_ratio': (acc_outside['to_outside']['sum']) / (acc_outside['to_outside']['count'])\n",
    "})\n",
    "\n",
    "acc_outside_df = acc_outside_df.reset_index()"
   ]
  },
  {
   "cell_type": "code",
   "execution_count": 108,
   "metadata": {},
   "outputs": [
    {
     "data": {
      "text/html": [
       "<div>\n",
       "<table border=\"1\" class=\"dataframe\">\n",
       "  <thead>\n",
       "    <tr style=\"text-align: right;\">\n",
       "      <th></th>\n",
       "      <th>account_no</th>\n",
       "      <th>all_count</th>\n",
       "      <th>outside_count</th>\n",
       "      <th>outside_ratio</th>\n",
       "    </tr>\n",
       "  </thead>\n",
       "  <tbody>\n",
       "    <tr>\n",
       "      <th>0</th>\n",
       "      <td>3450000010</td>\n",
       "      <td>1392</td>\n",
       "      <td>619</td>\n",
       "      <td>0.444684</td>\n",
       "    </tr>\n",
       "    <tr>\n",
       "      <th>1</th>\n",
       "      <td>3450000011</td>\n",
       "      <td>949</td>\n",
       "      <td>469</td>\n",
       "      <td>0.494204</td>\n",
       "    </tr>\n",
       "    <tr>\n",
       "      <th>2</th>\n",
       "      <td>3450000012</td>\n",
       "      <td>85</td>\n",
       "      <td>36</td>\n",
       "      <td>0.423529</td>\n",
       "    </tr>\n",
       "    <tr>\n",
       "      <th>3</th>\n",
       "      <td>3450000014</td>\n",
       "      <td>2986</td>\n",
       "      <td>2638</td>\n",
       "      <td>0.883456</td>\n",
       "    </tr>\n",
       "    <tr>\n",
       "      <th>4</th>\n",
       "      <td>3450000015</td>\n",
       "      <td>1</td>\n",
       "      <td>1</td>\n",
       "      <td>1.000000</td>\n",
       "    </tr>\n",
       "  </tbody>\n",
       "</table>\n",
       "</div>"
      ],
      "text/plain": [
       "   account_no  all_count  outside_count  outside_ratio\n",
       "0  3450000010       1392            619       0.444684\n",
       "1  3450000011        949            469       0.494204\n",
       "2  3450000012         85             36       0.423529\n",
       "3  3450000014       2986           2638       0.883456\n",
       "4  3450000015          1              1       1.000000"
      ]
     },
     "execution_count": 108,
     "metadata": {},
     "output_type": "execute_result"
    }
   ],
   "source": [
    "acc_outside_df.head()"
   ]
  },
  {
   "cell_type": "code",
   "execution_count": 109,
   "metadata": {
    "collapsed": true
   },
   "outputs": [],
   "source": [
    "acctran_dr = acc_transacitons[acc_transacitons['txn_type'] == 'DR']\n",
    "acctran_cr = acc_transacitons[acc_transacitons['txn_type'] == 'CR']"
   ]
  },
  {
   "cell_type": "code",
   "execution_count": 110,
   "metadata": {},
   "outputs": [
    {
     "data": {
      "text/html": [
       "<div>\n",
       "<table border=\"1\" class=\"dataframe\">\n",
       "  <thead>\n",
       "    <tr style=\"text-align: right;\">\n",
       "      <th></th>\n",
       "      <th>account_no</th>\n",
       "      <th>cr_count</th>\n",
       "      <th>cr_mean</th>\n",
       "      <th>cr_sum</th>\n",
       "    </tr>\n",
       "  </thead>\n",
       "  <tbody>\n",
       "    <tr>\n",
       "      <th>0</th>\n",
       "      <td>3450000010</td>\n",
       "      <td>1267</td>\n",
       "      <td>93.764799</td>\n",
       "      <td>118800</td>\n",
       "    </tr>\n",
       "    <tr>\n",
       "      <th>1</th>\n",
       "      <td>3450000011</td>\n",
       "      <td>403</td>\n",
       "      <td>1403.473945</td>\n",
       "      <td>565600</td>\n",
       "    </tr>\n",
       "    <tr>\n",
       "      <th>2</th>\n",
       "      <td>3450000012</td>\n",
       "      <td>26</td>\n",
       "      <td>1088.461538</td>\n",
       "      <td>28300</td>\n",
       "    </tr>\n",
       "    <tr>\n",
       "      <th>3</th>\n",
       "      <td>3450000014</td>\n",
       "      <td>2866</td>\n",
       "      <td>240.823447</td>\n",
       "      <td>690200</td>\n",
       "    </tr>\n",
       "    <tr>\n",
       "      <th>4</th>\n",
       "      <td>3450000015</td>\n",
       "      <td>1</td>\n",
       "      <td>750.000000</td>\n",
       "      <td>750</td>\n",
       "    </tr>\n",
       "  </tbody>\n",
       "</table>\n",
       "</div>"
      ],
      "text/plain": [
       "   account_no  cr_count      cr_mean  cr_sum\n",
       "0  3450000010      1267    93.764799  118800\n",
       "1  3450000011       403  1403.473945  565600\n",
       "2  3450000012        26  1088.461538   28300\n",
       "3  3450000014      2866   240.823447  690200\n",
       "4  3450000015         1   750.000000     750"
      ]
     },
     "execution_count": 110,
     "metadata": {},
     "output_type": "execute_result"
    }
   ],
   "source": [
    "# Create CR Features\n",
    "dep_cr = acctran_cr[['account_no', 'txn_amount']].groupby('account_no').agg(['mean', 'count', 'sum'])\n",
    "\n",
    "acc_cr = pd.DataFrame({\n",
    "    'cr_mean': dep_cr['txn_amount']['mean'],\n",
    "    'cr_count': dep_cr['txn_amount']['count'],\n",
    "    'cr_sum': dep_cr['txn_amount']['sum']\n",
    "})\n",
    "\n",
    "acc_cr = acc_cr.reset_index()\n",
    "\n",
    "acc_cr.head()"
   ]
  },
  {
   "cell_type": "code",
   "execution_count": 111,
   "metadata": {},
   "outputs": [
    {
     "data": {
      "text/html": [
       "<div>\n",
       "<table border=\"1\" class=\"dataframe\">\n",
       "  <thead>\n",
       "    <tr style=\"text-align: right;\">\n",
       "      <th></th>\n",
       "      <th>account_no</th>\n",
       "      <th>dr_count</th>\n",
       "      <th>dr_mean</th>\n",
       "      <th>dr_sum</th>\n",
       "    </tr>\n",
       "  </thead>\n",
       "  <tbody>\n",
       "    <tr>\n",
       "      <th>0</th>\n",
       "      <td>3450000010</td>\n",
       "      <td>125</td>\n",
       "      <td>1003.200000</td>\n",
       "      <td>125400</td>\n",
       "    </tr>\n",
       "    <tr>\n",
       "      <th>1</th>\n",
       "      <td>3450000011</td>\n",
       "      <td>546</td>\n",
       "      <td>957.234432</td>\n",
       "      <td>522650</td>\n",
       "    </tr>\n",
       "    <tr>\n",
       "      <th>2</th>\n",
       "      <td>3450000012</td>\n",
       "      <td>59</td>\n",
       "      <td>290.677966</td>\n",
       "      <td>17150</td>\n",
       "    </tr>\n",
       "    <tr>\n",
       "      <th>3</th>\n",
       "      <td>3450000014</td>\n",
       "      <td>120</td>\n",
       "      <td>5327.500000</td>\n",
       "      <td>639300</td>\n",
       "    </tr>\n",
       "    <tr>\n",
       "      <th>4</th>\n",
       "      <td>3450000016</td>\n",
       "      <td>5</td>\n",
       "      <td>150.000000</td>\n",
       "      <td>750</td>\n",
       "    </tr>\n",
       "  </tbody>\n",
       "</table>\n",
       "</div>"
      ],
      "text/plain": [
       "   account_no  dr_count      dr_mean  dr_sum\n",
       "0  3450000010       125  1003.200000  125400\n",
       "1  3450000011       546   957.234432  522650\n",
       "2  3450000012        59   290.677966   17150\n",
       "3  3450000014       120  5327.500000  639300\n",
       "4  3450000016         5   150.000000     750"
      ]
     },
     "execution_count": 111,
     "metadata": {},
     "output_type": "execute_result"
    }
   ],
   "source": [
    "# Create DR Features\n",
    "dep_dr = acctran_dr[['account_no', 'txn_amount']].groupby('account_no').agg(['mean', 'count', 'sum'])\n",
    "\n",
    "acc_dr = pd.DataFrame({\n",
    "    'dr_mean': dep_dr['txn_amount']['mean'],\n",
    "    'dr_count': dep_dr['txn_amount']['count'],\n",
    "    'dr_sum': dep_dr['txn_amount']['sum']\n",
    "})\n",
    "\n",
    "acc_dr = acc_dr.reset_index()\n",
    "\n",
    "acc_dr.head()"
   ]
  },
  {
   "cell_type": "code",
   "execution_count": 112,
   "metadata": {
    "collapsed": true
   },
   "outputs": [],
   "source": [
    "# Create Outside DR Feature\n",
    "dep_outside_dr = acc_transacitons[ (acc_transacitons['to_outside'] == 1) & (acc_transacitons['txn_type'] == 'DR') ]\n",
    "dep_outside_dr = dep_outside_dr[['account_no', 'txn_amount']].groupby('account_no').agg(['count', 'sum'])\n",
    "\n",
    "acc_dr_outside = pd.DataFrame({\n",
    "    'dr_outside_sum': dep_outside_dr['txn_amount']['sum'],\n",
    "    'dr_outside_count': dep_outside_dr['txn_amount']['count']\n",
    "})\n",
    "\n",
    "acc_dr_outside = acc_dr_outside.reset_index()"
   ]
  },
  {
   "cell_type": "code",
   "execution_count": 113,
   "metadata": {
    "collapsed": true
   },
   "outputs": [],
   "source": [
    "# Create Outside DR Feature\n",
    "dep_outside_cr = acc_transacitons[ (acc_transacitons['to_outside'] == 1) & (acc_transacitons['txn_type'] == 'CR') ]\n",
    "dep_outside_cr = dep_outside_cr[['account_no', 'txn_amount']].groupby('account_no').agg(['count', 'sum'])\n",
    "\n",
    "acc_cr_outside = pd.DataFrame({\n",
    "    'cr_outside_sum': dep_outside_cr['txn_amount']['sum'],\n",
    "    'cr_outside_count': dep_outside_cr['txn_amount']['count']\n",
    "})\n",
    "\n",
    "acc_cr_outside = acc_cr_outside.reset_index()"
   ]
  },
  {
   "cell_type": "code",
   "execution_count": 114,
   "metadata": {
    "scrolled": false
   },
   "outputs": [
    {
     "data": {
      "text/html": [
       "<div>\n",
       "<table border=\"1\" class=\"dataframe\">\n",
       "  <thead>\n",
       "    <tr style=\"text-align: right;\">\n",
       "      <th></th>\n",
       "      <th>account_no</th>\n",
       "      <th>all_count</th>\n",
       "      <th>outside_count</th>\n",
       "      <th>outside_ratio</th>\n",
       "      <th>cr_count</th>\n",
       "      <th>cr_mean</th>\n",
       "      <th>cr_sum</th>\n",
       "      <th>dr_count</th>\n",
       "      <th>dr_mean</th>\n",
       "      <th>dr_sum</th>\n",
       "      <th>dr_outside_count</th>\n",
       "      <th>dr_outside_sum</th>\n",
       "      <th>cr_outside_count</th>\n",
       "      <th>cr_outside_sum</th>\n",
       "    </tr>\n",
       "  </thead>\n",
       "  <tbody>\n",
       "    <tr>\n",
       "      <th>0</th>\n",
       "      <td>3450000010</td>\n",
       "      <td>1392</td>\n",
       "      <td>619</td>\n",
       "      <td>0.444684</td>\n",
       "      <td>1267.0</td>\n",
       "      <td>93.764799</td>\n",
       "      <td>118800.0</td>\n",
       "      <td>125.0</td>\n",
       "      <td>1003.200000</td>\n",
       "      <td>125400.0</td>\n",
       "      <td>68.0</td>\n",
       "      <td>89000.0</td>\n",
       "      <td>551.0</td>\n",
       "      <td>59750.0</td>\n",
       "    </tr>\n",
       "    <tr>\n",
       "      <th>1</th>\n",
       "      <td>3450000011</td>\n",
       "      <td>949</td>\n",
       "      <td>469</td>\n",
       "      <td>0.494204</td>\n",
       "      <td>403.0</td>\n",
       "      <td>1403.473945</td>\n",
       "      <td>565600.0</td>\n",
       "      <td>546.0</td>\n",
       "      <td>957.234432</td>\n",
       "      <td>522650.0</td>\n",
       "      <td>180.0</td>\n",
       "      <td>135400.0</td>\n",
       "      <td>289.0</td>\n",
       "      <td>417100.0</td>\n",
       "    </tr>\n",
       "    <tr>\n",
       "      <th>2</th>\n",
       "      <td>3450000012</td>\n",
       "      <td>85</td>\n",
       "      <td>36</td>\n",
       "      <td>0.423529</td>\n",
       "      <td>26.0</td>\n",
       "      <td>1088.461538</td>\n",
       "      <td>28300.0</td>\n",
       "      <td>59.0</td>\n",
       "      <td>290.677966</td>\n",
       "      <td>17150.0</td>\n",
       "      <td>25.0</td>\n",
       "      <td>5750.0</td>\n",
       "      <td>11.0</td>\n",
       "      <td>5750.0</td>\n",
       "    </tr>\n",
       "    <tr>\n",
       "      <th>3</th>\n",
       "      <td>3450000014</td>\n",
       "      <td>2986</td>\n",
       "      <td>2638</td>\n",
       "      <td>0.883456</td>\n",
       "      <td>2866.0</td>\n",
       "      <td>240.823447</td>\n",
       "      <td>690200.0</td>\n",
       "      <td>120.0</td>\n",
       "      <td>5327.500000</td>\n",
       "      <td>639300.0</td>\n",
       "      <td>19.0</td>\n",
       "      <td>20500.0</td>\n",
       "      <td>2619.0</td>\n",
       "      <td>633550.0</td>\n",
       "    </tr>\n",
       "    <tr>\n",
       "      <th>4</th>\n",
       "      <td>3450000015</td>\n",
       "      <td>1</td>\n",
       "      <td>1</td>\n",
       "      <td>1.000000</td>\n",
       "      <td>1.0</td>\n",
       "      <td>750.000000</td>\n",
       "      <td>750.0</td>\n",
       "      <td>0.0</td>\n",
       "      <td>0.000000</td>\n",
       "      <td>0.0</td>\n",
       "      <td>0.0</td>\n",
       "      <td>0.0</td>\n",
       "      <td>1.0</td>\n",
       "      <td>750.0</td>\n",
       "    </tr>\n",
       "  </tbody>\n",
       "</table>\n",
       "</div>"
      ],
      "text/plain": [
       "   account_no  all_count  outside_count  outside_ratio  cr_count      cr_mean  \\\n",
       "0  3450000010       1392            619       0.444684    1267.0    93.764799   \n",
       "1  3450000011        949            469       0.494204     403.0  1403.473945   \n",
       "2  3450000012         85             36       0.423529      26.0  1088.461538   \n",
       "3  3450000014       2986           2638       0.883456    2866.0   240.823447   \n",
       "4  3450000015          1              1       1.000000       1.0   750.000000   \n",
       "\n",
       "     cr_sum  dr_count      dr_mean    dr_sum  dr_outside_count  \\\n",
       "0  118800.0     125.0  1003.200000  125400.0              68.0   \n",
       "1  565600.0     546.0   957.234432  522650.0             180.0   \n",
       "2   28300.0      59.0   290.677966   17150.0              25.0   \n",
       "3  690200.0     120.0  5327.500000  639300.0              19.0   \n",
       "4     750.0       0.0     0.000000       0.0               0.0   \n",
       "\n",
       "   dr_outside_sum  cr_outside_count  cr_outside_sum  \n",
       "0         89000.0             551.0         59750.0  \n",
       "1        135400.0             289.0        417100.0  \n",
       "2          5750.0              11.0          5750.0  \n",
       "3         20500.0            2619.0        633550.0  \n",
       "4             0.0               1.0           750.0  "
      ]
     },
     "execution_count": 114,
     "metadata": {},
     "output_type": "execute_result"
    }
   ],
   "source": [
    "# Merge all deposits features\n",
    "acc_deposits = acc_outside_df.merge(acc_cr, how='outer', on='account_no')\n",
    "acc_deposits = acc_deposits.merge(acc_dr, how='outer', on='account_no')\n",
    "acc_deposits = acc_deposits.merge(acc_dr_outside, how='outer', on='account_no')\n",
    "acc_deposits = acc_deposits.merge(acc_cr_outside, how='outer', on='account_no')\n",
    "acc_deposits = acc_deposits.fillna(0)\n",
    "acc_deposits.head()"
   ]
  },
  {
   "cell_type": "markdown",
   "metadata": {},
   "source": [
    "## Extract credit card data"
   ]
  },
  {
   "cell_type": "code",
   "execution_count": 115,
   "metadata": {
    "collapsed": true
   },
   "outputs": [],
   "source": [
    "cardacc_transactions = card_transactions.merge(acc_card, how='left', on='card_no')"
   ]
  },
  {
   "cell_type": "code",
   "execution_count": 116,
   "metadata": {},
   "outputs": [
    {
     "data": {
      "text/html": [
       "<div>\n",
       "<table border=\"1\" class=\"dataframe\">\n",
       "  <thead>\n",
       "    <tr style=\"text-align: right;\">\n",
       "      <th></th>\n",
       "      <th>card_no</th>\n",
       "      <th>txn_date</th>\n",
       "      <th>txn_hour</th>\n",
       "      <th>txn_amount</th>\n",
       "      <th>mer_cat_code</th>\n",
       "      <th>mer_id</th>\n",
       "      <th>account_no</th>\n",
       "    </tr>\n",
       "  </thead>\n",
       "  <tbody>\n",
       "    <tr>\n",
       "      <th>0</th>\n",
       "      <td>1234000000009154</td>\n",
       "      <td>2016-12-07 00:00:00.0</td>\n",
       "      <td>22</td>\n",
       "      <td>1550</td>\n",
       "      <td>4511</td>\n",
       "      <td>0</td>\n",
       "      <td>3450000392</td>\n",
       "    </tr>\n",
       "    <tr>\n",
       "      <th>1</th>\n",
       "      <td>1234000000017165</td>\n",
       "      <td>2016-12-07 00:00:00.0</td>\n",
       "      <td>22</td>\n",
       "      <td>250</td>\n",
       "      <td>6011</td>\n",
       "      <td>0</td>\n",
       "      <td>3450040668</td>\n",
       "    </tr>\n",
       "    <tr>\n",
       "      <th>2</th>\n",
       "      <td>1234000000000768</td>\n",
       "      <td>2016-12-07 00:00:00.0</td>\n",
       "      <td>22</td>\n",
       "      <td>250</td>\n",
       "      <td>8398</td>\n",
       "      <td>0</td>\n",
       "      <td>3450015325</td>\n",
       "    </tr>\n",
       "    <tr>\n",
       "      <th>3</th>\n",
       "      <td>1234000000018716</td>\n",
       "      <td>2016-12-07 00:00:00.0</td>\n",
       "      <td>22</td>\n",
       "      <td>50</td>\n",
       "      <td>5735</td>\n",
       "      <td>0</td>\n",
       "      <td>3450032598</td>\n",
       "    </tr>\n",
       "    <tr>\n",
       "      <th>4</th>\n",
       "      <td>1234000000010162</td>\n",
       "      <td>2016-12-07 00:00:00.0</td>\n",
       "      <td>22</td>\n",
       "      <td>200</td>\n",
       "      <td>4121</td>\n",
       "      <td>0</td>\n",
       "      <td>3450021131</td>\n",
       "    </tr>\n",
       "  </tbody>\n",
       "</table>\n",
       "</div>"
      ],
      "text/plain": [
       "            card_no               txn_date  txn_hour  txn_amount  \\\n",
       "0  1234000000009154  2016-12-07 00:00:00.0        22        1550   \n",
       "1  1234000000017165  2016-12-07 00:00:00.0        22         250   \n",
       "2  1234000000000768  2016-12-07 00:00:00.0        22         250   \n",
       "3  1234000000018716  2016-12-07 00:00:00.0        22          50   \n",
       "4  1234000000010162  2016-12-07 00:00:00.0        22         200   \n",
       "\n",
       "   mer_cat_code  mer_id  account_no  \n",
       "0          4511       0  3450000392  \n",
       "1          6011       0  3450040668  \n",
       "2          8398       0  3450015325  \n",
       "3          5735       0  3450032598  \n",
       "4          4121       0  3450021131  "
      ]
     },
     "execution_count": 116,
     "metadata": {},
     "output_type": "execute_result"
    }
   ],
   "source": [
    "cardacc_transactions.head()"
   ]
  },
  {
   "cell_type": "code",
   "execution_count": 126,
   "metadata": {},
   "outputs": [
    {
     "data": {
      "text/html": [
       "<div>\n",
       "<table border=\"1\" class=\"dataframe\">\n",
       "  <thead>\n",
       "    <tr style=\"text-align: right;\">\n",
       "      <th></th>\n",
       "      <th>account_no</th>\n",
       "      <th>credit_count</th>\n",
       "      <th>credit_mean</th>\n",
       "      <th>credit_sum</th>\n",
       "    </tr>\n",
       "  </thead>\n",
       "  <tbody>\n",
       "    <tr>\n",
       "      <th>0</th>\n",
       "      <td>3450000010</td>\n",
       "      <td>87</td>\n",
       "      <td>1500.000000</td>\n",
       "      <td>130500</td>\n",
       "    </tr>\n",
       "    <tr>\n",
       "      <th>1</th>\n",
       "      <td>3450000016</td>\n",
       "      <td>16</td>\n",
       "      <td>10725.000000</td>\n",
       "      <td>171600</td>\n",
       "    </tr>\n",
       "    <tr>\n",
       "      <th>2</th>\n",
       "      <td>3450000017</td>\n",
       "      <td>22</td>\n",
       "      <td>3090.909091</td>\n",
       "      <td>68000</td>\n",
       "    </tr>\n",
       "    <tr>\n",
       "      <th>3</th>\n",
       "      <td>3450000018</td>\n",
       "      <td>46</td>\n",
       "      <td>218.478261</td>\n",
       "      <td>10050</td>\n",
       "    </tr>\n",
       "    <tr>\n",
       "      <th>4</th>\n",
       "      <td>3450000024</td>\n",
       "      <td>167</td>\n",
       "      <td>854.491018</td>\n",
       "      <td>142700</td>\n",
       "    </tr>\n",
       "  </tbody>\n",
       "</table>\n",
       "</div>"
      ],
      "text/plain": [
       "   account_no  credit_count   credit_mean  credit_sum\n",
       "0  3450000010            87   1500.000000      130500\n",
       "1  3450000016            16  10725.000000      171600\n",
       "2  3450000017            22   3090.909091       68000\n",
       "3  3450000018            46    218.478261       10050\n",
       "4  3450000024           167    854.491018      142700"
      ]
     },
     "execution_count": 126,
     "metadata": {},
     "output_type": "execute_result"
    }
   ],
   "source": [
    "# Create Outside DR Feature\n",
    "cardacc_amount = cardacc_transactions[['account_no', 'txn_amount']].groupby('account_no').agg(['count', 'sum', 'mean'])\n",
    "\n",
    "cardacc_amount_df = pd.DataFrame({\n",
    "    'credit_sum': cardacc_amount['txn_amount']['sum'],\n",
    "    'credit_count': cardacc_amount['txn_amount']['count'],\n",
    "    'credit_mean': cardacc_amount['txn_amount']['mean']\n",
    "})\n",
    "\n",
    "cardacc_amount_df = cardacc_amount_df.reset_index()\n",
    "cardacc_amount_df.head()"
   ]
  },
  {
   "cell_type": "code",
   "execution_count": 127,
   "metadata": {},
   "outputs": [
    {
     "data": {
      "text/html": [
       "<div>\n",
       "<table border=\"1\" class=\"dataframe\">\n",
       "  <thead>\n",
       "    <tr style=\"text-align: right;\">\n",
       "      <th></th>\n",
       "      <th>account_no</th>\n",
       "      <th>all_count</th>\n",
       "      <th>outside_count</th>\n",
       "      <th>outside_ratio</th>\n",
       "      <th>cr_count</th>\n",
       "      <th>cr_mean</th>\n",
       "      <th>cr_sum</th>\n",
       "      <th>dr_count</th>\n",
       "      <th>dr_mean</th>\n",
       "      <th>dr_sum</th>\n",
       "      <th>dr_outside_count</th>\n",
       "      <th>dr_outside_sum</th>\n",
       "      <th>cr_outside_count</th>\n",
       "      <th>cr_outside_sum</th>\n",
       "      <th>credit_count</th>\n",
       "      <th>credit_mean</th>\n",
       "      <th>credit_sum</th>\n",
       "    </tr>\n",
       "  </thead>\n",
       "  <tbody>\n",
       "    <tr>\n",
       "      <th>0</th>\n",
       "      <td>3450000010</td>\n",
       "      <td>1392</td>\n",
       "      <td>619</td>\n",
       "      <td>0.444684</td>\n",
       "      <td>1267.0</td>\n",
       "      <td>93.764799</td>\n",
       "      <td>118800.0</td>\n",
       "      <td>125.0</td>\n",
       "      <td>1003.200000</td>\n",
       "      <td>125400.0</td>\n",
       "      <td>68.0</td>\n",
       "      <td>89000.0</td>\n",
       "      <td>551.0</td>\n",
       "      <td>59750.0</td>\n",
       "      <td>87.0</td>\n",
       "      <td>1500.0</td>\n",
       "      <td>130500.0</td>\n",
       "    </tr>\n",
       "    <tr>\n",
       "      <th>1</th>\n",
       "      <td>3450000011</td>\n",
       "      <td>949</td>\n",
       "      <td>469</td>\n",
       "      <td>0.494204</td>\n",
       "      <td>403.0</td>\n",
       "      <td>1403.473945</td>\n",
       "      <td>565600.0</td>\n",
       "      <td>546.0</td>\n",
       "      <td>957.234432</td>\n",
       "      <td>522650.0</td>\n",
       "      <td>180.0</td>\n",
       "      <td>135400.0</td>\n",
       "      <td>289.0</td>\n",
       "      <td>417100.0</td>\n",
       "      <td>0.0</td>\n",
       "      <td>0.0</td>\n",
       "      <td>0.0</td>\n",
       "    </tr>\n",
       "    <tr>\n",
       "      <th>2</th>\n",
       "      <td>3450000012</td>\n",
       "      <td>85</td>\n",
       "      <td>36</td>\n",
       "      <td>0.423529</td>\n",
       "      <td>26.0</td>\n",
       "      <td>1088.461538</td>\n",
       "      <td>28300.0</td>\n",
       "      <td>59.0</td>\n",
       "      <td>290.677966</td>\n",
       "      <td>17150.0</td>\n",
       "      <td>25.0</td>\n",
       "      <td>5750.0</td>\n",
       "      <td>11.0</td>\n",
       "      <td>5750.0</td>\n",
       "      <td>0.0</td>\n",
       "      <td>0.0</td>\n",
       "      <td>0.0</td>\n",
       "    </tr>\n",
       "    <tr>\n",
       "      <th>3</th>\n",
       "      <td>3450000014</td>\n",
       "      <td>2986</td>\n",
       "      <td>2638</td>\n",
       "      <td>0.883456</td>\n",
       "      <td>2866.0</td>\n",
       "      <td>240.823447</td>\n",
       "      <td>690200.0</td>\n",
       "      <td>120.0</td>\n",
       "      <td>5327.500000</td>\n",
       "      <td>639300.0</td>\n",
       "      <td>19.0</td>\n",
       "      <td>20500.0</td>\n",
       "      <td>2619.0</td>\n",
       "      <td>633550.0</td>\n",
       "      <td>0.0</td>\n",
       "      <td>0.0</td>\n",
       "      <td>0.0</td>\n",
       "    </tr>\n",
       "    <tr>\n",
       "      <th>4</th>\n",
       "      <td>3450000015</td>\n",
       "      <td>1</td>\n",
       "      <td>1</td>\n",
       "      <td>1.000000</td>\n",
       "      <td>1.0</td>\n",
       "      <td>750.000000</td>\n",
       "      <td>750.0</td>\n",
       "      <td>0.0</td>\n",
       "      <td>0.000000</td>\n",
       "      <td>0.0</td>\n",
       "      <td>0.0</td>\n",
       "      <td>0.0</td>\n",
       "      <td>1.0</td>\n",
       "      <td>750.0</td>\n",
       "      <td>0.0</td>\n",
       "      <td>0.0</td>\n",
       "      <td>0.0</td>\n",
       "    </tr>\n",
       "  </tbody>\n",
       "</table>\n",
       "</div>"
      ],
      "text/plain": [
       "   account_no  all_count  outside_count  outside_ratio  cr_count      cr_mean  \\\n",
       "0  3450000010       1392            619       0.444684    1267.0    93.764799   \n",
       "1  3450000011        949            469       0.494204     403.0  1403.473945   \n",
       "2  3450000012         85             36       0.423529      26.0  1088.461538   \n",
       "3  3450000014       2986           2638       0.883456    2866.0   240.823447   \n",
       "4  3450000015          1              1       1.000000       1.0   750.000000   \n",
       "\n",
       "     cr_sum  dr_count      dr_mean    dr_sum  dr_outside_count  \\\n",
       "0  118800.0     125.0  1003.200000  125400.0              68.0   \n",
       "1  565600.0     546.0   957.234432  522650.0             180.0   \n",
       "2   28300.0      59.0   290.677966   17150.0              25.0   \n",
       "3  690200.0     120.0  5327.500000  639300.0              19.0   \n",
       "4     750.0       0.0     0.000000       0.0               0.0   \n",
       "\n",
       "   dr_outside_sum  cr_outside_count  cr_outside_sum  credit_count  \\\n",
       "0         89000.0             551.0         59750.0          87.0   \n",
       "1        135400.0             289.0        417100.0           0.0   \n",
       "2          5750.0              11.0          5750.0           0.0   \n",
       "3         20500.0            2619.0        633550.0           0.0   \n",
       "4             0.0               1.0           750.0           0.0   \n",
       "\n",
       "   credit_mean  credit_sum  \n",
       "0       1500.0    130500.0  \n",
       "1          0.0         0.0  \n",
       "2          0.0         0.0  \n",
       "3          0.0         0.0  \n",
       "4          0.0         0.0  "
      ]
     },
     "execution_count": 127,
     "metadata": {},
     "output_type": "execute_result"
    }
   ],
   "source": [
    "acc_fulldata = acc_deposits.merge(cardacc_amount_df, how='left', on='account_no')\n",
    "acc_fulldata.fillna(0, inplace=True)\n",
    "acc_fulldata.head()"
   ]
  },
  {
   "cell_type": "markdown",
   "metadata": {},
   "source": [
    "## Combine test & train data"
   ]
  },
  {
   "cell_type": "code",
   "execution_count": 128,
   "metadata": {
    "collapsed": true
   },
   "outputs": [],
   "source": [
    "traindata_full = traindata.merge(acc_fulldata, how='left', on='account_no')\n",
    "testdata_full = testdata.merge(acc_fulldata, how='left', on='account_no')"
   ]
  },
  {
   "cell_type": "code",
   "execution_count": 129,
   "metadata": {},
   "outputs": [
    {
     "data": {
      "text/html": [
       "<div>\n",
       "<table border=\"1\" class=\"dataframe\">\n",
       "  <thead>\n",
       "    <tr style=\"text-align: right;\">\n",
       "      <th></th>\n",
       "      <th>account_no</th>\n",
       "      <th>is_merchant</th>\n",
       "      <th>all_count</th>\n",
       "      <th>outside_count</th>\n",
       "      <th>outside_ratio</th>\n",
       "      <th>cr_count</th>\n",
       "      <th>cr_mean</th>\n",
       "      <th>cr_sum</th>\n",
       "      <th>dr_count</th>\n",
       "      <th>dr_mean</th>\n",
       "      <th>dr_sum</th>\n",
       "      <th>dr_outside_count</th>\n",
       "      <th>dr_outside_sum</th>\n",
       "      <th>cr_outside_count</th>\n",
       "      <th>cr_outside_sum</th>\n",
       "      <th>credit_count</th>\n",
       "      <th>credit_mean</th>\n",
       "      <th>credit_sum</th>\n",
       "    </tr>\n",
       "  </thead>\n",
       "  <tbody>\n",
       "    <tr>\n",
       "      <th>0</th>\n",
       "      <td>3450023212</td>\n",
       "      <td>1</td>\n",
       "      <td>1490</td>\n",
       "      <td>1265</td>\n",
       "      <td>0.848993</td>\n",
       "      <td>1270.0</td>\n",
       "      <td>1423.346457</td>\n",
       "      <td>1807650.0</td>\n",
       "      <td>220.0</td>\n",
       "      <td>6675.681818</td>\n",
       "      <td>1468650.0</td>\n",
       "      <td>117.0</td>\n",
       "      <td>1449250.0</td>\n",
       "      <td>1148.0</td>\n",
       "      <td>1048800.0</td>\n",
       "      <td>0.0</td>\n",
       "      <td>0.000000</td>\n",
       "      <td>0.0</td>\n",
       "    </tr>\n",
       "    <tr>\n",
       "      <th>1</th>\n",
       "      <td>3450001274</td>\n",
       "      <td>0</td>\n",
       "      <td>17</td>\n",
       "      <td>1</td>\n",
       "      <td>0.058824</td>\n",
       "      <td>5.0</td>\n",
       "      <td>1400.000000</td>\n",
       "      <td>7000.0</td>\n",
       "      <td>12.0</td>\n",
       "      <td>504.166667</td>\n",
       "      <td>6050.0</td>\n",
       "      <td>1.0</td>\n",
       "      <td>1000.0</td>\n",
       "      <td>0.0</td>\n",
       "      <td>0.0</td>\n",
       "      <td>0.0</td>\n",
       "      <td>0.000000</td>\n",
       "      <td>0.0</td>\n",
       "    </tr>\n",
       "    <tr>\n",
       "      <th>2</th>\n",
       "      <td>3450033744</td>\n",
       "      <td>0</td>\n",
       "      <td>4</td>\n",
       "      <td>2</td>\n",
       "      <td>0.500000</td>\n",
       "      <td>1.0</td>\n",
       "      <td>400.000000</td>\n",
       "      <td>400.0</td>\n",
       "      <td>3.0</td>\n",
       "      <td>283.333333</td>\n",
       "      <td>850.0</td>\n",
       "      <td>1.0</td>\n",
       "      <td>400.0</td>\n",
       "      <td>1.0</td>\n",
       "      <td>400.0</td>\n",
       "      <td>67.0</td>\n",
       "      <td>723.880597</td>\n",
       "      <td>48500.0</td>\n",
       "    </tr>\n",
       "    <tr>\n",
       "      <th>3</th>\n",
       "      <td>3450030139</td>\n",
       "      <td>0</td>\n",
       "      <td>2</td>\n",
       "      <td>0</td>\n",
       "      <td>0.000000</td>\n",
       "      <td>0.0</td>\n",
       "      <td>0.000000</td>\n",
       "      <td>0.0</td>\n",
       "      <td>2.0</td>\n",
       "      <td>2750.000000</td>\n",
       "      <td>5500.0</td>\n",
       "      <td>0.0</td>\n",
       "      <td>0.0</td>\n",
       "      <td>0.0</td>\n",
       "      <td>0.0</td>\n",
       "      <td>0.0</td>\n",
       "      <td>0.000000</td>\n",
       "      <td>0.0</td>\n",
       "    </tr>\n",
       "    <tr>\n",
       "      <th>4</th>\n",
       "      <td>3450016925</td>\n",
       "      <td>0</td>\n",
       "      <td>1</td>\n",
       "      <td>0</td>\n",
       "      <td>0.000000</td>\n",
       "      <td>1.0</td>\n",
       "      <td>58000.000000</td>\n",
       "      <td>58000.0</td>\n",
       "      <td>0.0</td>\n",
       "      <td>0.000000</td>\n",
       "      <td>0.0</td>\n",
       "      <td>0.0</td>\n",
       "      <td>0.0</td>\n",
       "      <td>0.0</td>\n",
       "      <td>0.0</td>\n",
       "      <td>34.0</td>\n",
       "      <td>317.647059</td>\n",
       "      <td>10800.0</td>\n",
       "    </tr>\n",
       "  </tbody>\n",
       "</table>\n",
       "</div>"
      ],
      "text/plain": [
       "   account_no  is_merchant  all_count  outside_count  outside_ratio  cr_count  \\\n",
       "0  3450023212            1       1490           1265       0.848993    1270.0   \n",
       "1  3450001274            0         17              1       0.058824       5.0   \n",
       "2  3450033744            0          4              2       0.500000       1.0   \n",
       "3  3450030139            0          2              0       0.000000       0.0   \n",
       "4  3450016925            0          1              0       0.000000       1.0   \n",
       "\n",
       "        cr_mean     cr_sum  dr_count      dr_mean     dr_sum  \\\n",
       "0   1423.346457  1807650.0     220.0  6675.681818  1468650.0   \n",
       "1   1400.000000     7000.0      12.0   504.166667     6050.0   \n",
       "2    400.000000      400.0       3.0   283.333333      850.0   \n",
       "3      0.000000        0.0       2.0  2750.000000     5500.0   \n",
       "4  58000.000000    58000.0       0.0     0.000000        0.0   \n",
       "\n",
       "   dr_outside_count  dr_outside_sum  cr_outside_count  cr_outside_sum  \\\n",
       "0             117.0       1449250.0            1148.0       1048800.0   \n",
       "1               1.0          1000.0               0.0             0.0   \n",
       "2               1.0           400.0               1.0           400.0   \n",
       "3               0.0             0.0               0.0             0.0   \n",
       "4               0.0             0.0               0.0             0.0   \n",
       "\n",
       "   credit_count  credit_mean  credit_sum  \n",
       "0           0.0     0.000000         0.0  \n",
       "1           0.0     0.000000         0.0  \n",
       "2          67.0   723.880597     48500.0  \n",
       "3           0.0     0.000000         0.0  \n",
       "4          34.0   317.647059     10800.0  "
      ]
     },
     "execution_count": 129,
     "metadata": {},
     "output_type": "execute_result"
    }
   ],
   "source": [
    "traindata_full.head()"
   ]
  },
  {
   "cell_type": "code",
   "execution_count": 130,
   "metadata": {
    "scrolled": false
   },
   "outputs": [
    {
     "data": {
      "text/html": [
       "<div>\n",
       "<table border=\"1\" class=\"dataframe\">\n",
       "  <thead>\n",
       "    <tr style=\"text-align: right;\">\n",
       "      <th></th>\n",
       "      <th>account_no</th>\n",
       "      <th>all_count</th>\n",
       "      <th>outside_count</th>\n",
       "      <th>outside_ratio</th>\n",
       "      <th>cr_count</th>\n",
       "      <th>cr_mean</th>\n",
       "      <th>cr_sum</th>\n",
       "      <th>dr_count</th>\n",
       "      <th>dr_mean</th>\n",
       "      <th>dr_sum</th>\n",
       "      <th>dr_outside_count</th>\n",
       "      <th>dr_outside_sum</th>\n",
       "      <th>cr_outside_count</th>\n",
       "      <th>cr_outside_sum</th>\n",
       "      <th>credit_count</th>\n",
       "      <th>credit_mean</th>\n",
       "      <th>credit_sum</th>\n",
       "    </tr>\n",
       "  </thead>\n",
       "  <tbody>\n",
       "    <tr>\n",
       "      <th>0</th>\n",
       "      <td>3450004069</td>\n",
       "      <td>1</td>\n",
       "      <td>0</td>\n",
       "      <td>0.000000</td>\n",
       "      <td>0.0</td>\n",
       "      <td>0.000000</td>\n",
       "      <td>0.0</td>\n",
       "      <td>1.0</td>\n",
       "      <td>15000.000000</td>\n",
       "      <td>15000.0</td>\n",
       "      <td>0.0</td>\n",
       "      <td>0.0</td>\n",
       "      <td>0.0</td>\n",
       "      <td>0.0</td>\n",
       "      <td>0.0</td>\n",
       "      <td>0.000000</td>\n",
       "      <td>0.0</td>\n",
       "    </tr>\n",
       "    <tr>\n",
       "      <th>1</th>\n",
       "      <td>3450049874</td>\n",
       "      <td>76</td>\n",
       "      <td>24</td>\n",
       "      <td>0.315789</td>\n",
       "      <td>23.0</td>\n",
       "      <td>1250.000000</td>\n",
       "      <td>28750.0</td>\n",
       "      <td>53.0</td>\n",
       "      <td>468.867925</td>\n",
       "      <td>24850.0</td>\n",
       "      <td>14.0</td>\n",
       "      <td>3650.0</td>\n",
       "      <td>10.0</td>\n",
       "      <td>3750.0</td>\n",
       "      <td>66.0</td>\n",
       "      <td>2974.242424</td>\n",
       "      <td>196300.0</td>\n",
       "    </tr>\n",
       "    <tr>\n",
       "      <th>2</th>\n",
       "      <td>3450011367</td>\n",
       "      <td>20</td>\n",
       "      <td>4</td>\n",
       "      <td>0.200000</td>\n",
       "      <td>6.0</td>\n",
       "      <td>3458.333333</td>\n",
       "      <td>20750.0</td>\n",
       "      <td>14.0</td>\n",
       "      <td>1310.714286</td>\n",
       "      <td>18350.0</td>\n",
       "      <td>3.0</td>\n",
       "      <td>7350.0</td>\n",
       "      <td>1.0</td>\n",
       "      <td>1200.0</td>\n",
       "      <td>130.0</td>\n",
       "      <td>1032.307692</td>\n",
       "      <td>134200.0</td>\n",
       "    </tr>\n",
       "    <tr>\n",
       "      <th>3</th>\n",
       "      <td>3450002087</td>\n",
       "      <td>26</td>\n",
       "      <td>4</td>\n",
       "      <td>0.153846</td>\n",
       "      <td>11.0</td>\n",
       "      <td>2859.090909</td>\n",
       "      <td>31450.0</td>\n",
       "      <td>15.0</td>\n",
       "      <td>3416.666667</td>\n",
       "      <td>51250.0</td>\n",
       "      <td>1.0</td>\n",
       "      <td>1600.0</td>\n",
       "      <td>3.0</td>\n",
       "      <td>14600.0</td>\n",
       "      <td>0.0</td>\n",
       "      <td>0.000000</td>\n",
       "      <td>0.0</td>\n",
       "    </tr>\n",
       "    <tr>\n",
       "      <th>4</th>\n",
       "      <td>3450035141</td>\n",
       "      <td>130</td>\n",
       "      <td>69</td>\n",
       "      <td>0.530769</td>\n",
       "      <td>67.0</td>\n",
       "      <td>2292.537313</td>\n",
       "      <td>153600.0</td>\n",
       "      <td>63.0</td>\n",
       "      <td>3572.222222</td>\n",
       "      <td>225050.0</td>\n",
       "      <td>34.0</td>\n",
       "      <td>94900.0</td>\n",
       "      <td>35.0</td>\n",
       "      <td>68600.0</td>\n",
       "      <td>98.0</td>\n",
       "      <td>1035.714286</td>\n",
       "      <td>101500.0</td>\n",
       "    </tr>\n",
       "  </tbody>\n",
       "</table>\n",
       "</div>"
      ],
      "text/plain": [
       "   account_no  all_count  outside_count  outside_ratio  cr_count      cr_mean  \\\n",
       "0  3450004069          1              0       0.000000       0.0     0.000000   \n",
       "1  3450049874         76             24       0.315789      23.0  1250.000000   \n",
       "2  3450011367         20              4       0.200000       6.0  3458.333333   \n",
       "3  3450002087         26              4       0.153846      11.0  2859.090909   \n",
       "4  3450035141        130             69       0.530769      67.0  2292.537313   \n",
       "\n",
       "     cr_sum  dr_count       dr_mean    dr_sum  dr_outside_count  \\\n",
       "0       0.0       1.0  15000.000000   15000.0               0.0   \n",
       "1   28750.0      53.0    468.867925   24850.0              14.0   \n",
       "2   20750.0      14.0   1310.714286   18350.0               3.0   \n",
       "3   31450.0      15.0   3416.666667   51250.0               1.0   \n",
       "4  153600.0      63.0   3572.222222  225050.0              34.0   \n",
       "\n",
       "   dr_outside_sum  cr_outside_count  cr_outside_sum  credit_count  \\\n",
       "0             0.0               0.0             0.0           0.0   \n",
       "1          3650.0              10.0          3750.0          66.0   \n",
       "2          7350.0               1.0          1200.0         130.0   \n",
       "3          1600.0               3.0         14600.0           0.0   \n",
       "4         94900.0              35.0         68600.0          98.0   \n",
       "\n",
       "   credit_mean  credit_sum  \n",
       "0     0.000000         0.0  \n",
       "1  2974.242424    196300.0  \n",
       "2  1032.307692    134200.0  \n",
       "3     0.000000         0.0  \n",
       "4  1035.714286    101500.0  "
      ]
     },
     "execution_count": 130,
     "metadata": {},
     "output_type": "execute_result"
    }
   ],
   "source": [
    "testdata_full.head()"
   ]
  },
  {
   "cell_type": "markdown",
   "metadata": {},
   "source": [
    "## Predict"
   ]
  },
  {
   "cell_type": "code",
   "execution_count": 131,
   "metadata": {},
   "outputs": [
    {
     "data": {
      "text/plain": [
       "<matplotlib.axes._subplots.AxesSubplot at 0x16197e7b8>"
      ]
     },
     "execution_count": 131,
     "metadata": {},
     "output_type": "execute_result"
    },
    {
     "data": {
      "image/png": "[encoded data removed]",
      "text/plain": [
       "<matplotlib.figure.Figure at 0x120783710>"
      ]
     },
     "metadata": {},
     "output_type": "display_data"
    }
   ],
   "source": [
    "import matplotlib.pyplot as plt\n",
    "import seaborn as sns\n",
    "\n",
    "corr = traindata_full.corr()\n",
    "\n",
    "# Set up the matplotlib figure\n",
    "f, ax = plt.subplots(figsize=(11, 9))\n",
    "\n",
    "# Generate a custom diverging colormap\n",
    "cmap = sns.diverging_palette(220, 10, as_cmap=True)\n",
    "\n",
    "# Draw the heatmap with the mask and correct aspect ratio\n",
    "sns.heatmap(corr, cmap=cmap, vmax=.3, center=0,\n",
    "            square=True, linewidths=.5, cbar_kws={\"shrink\": .5})"
   ]
  },
  {
   "cell_type": "code",
   "execution_count": 65,
   "metadata": {
    "collapsed": true
   },
   "outputs": [],
   "source": [
    "# Predict\n",
    "from sklearn.model_selection import cross_val_score, train_test_split"
   ]
  },
  {
   "cell_type": "code",
   "execution_count": 132,
   "metadata": {
    "collapsed": true
   },
   "outputs": [],
   "source": [
    "# Settings\n",
    "use_columns = [\n",
    "    'outside_ratio',\n",
    "    'cr_count',\n",
    "    'cr_mean',\n",
    "    'cr_sum',\n",
    "    'dr_count',\n",
    "    'dr_mean',\n",
    "    'dr_sum',\n",
    "    'dr_outside_sum',\n",
    "    'dr_outside_count',\n",
    "    'cr_outside_sum',\n",
    "    'cr_outside_count',\n",
    "    'credit_count',\n",
    "    'credit_sum'\n",
    "]\n",
    "\n",
    "target_column = 'is_merchant'\n",
    "\n",
    "# from sklearn.naive_bayes import GaussianNB\n",
    "# model = GaussianNB()\n",
    "\n",
    "from sklearn.ensemble import RandomForestClassifier\n",
    "model = RandomForestClassifier(n_estimators=100)\n",
    "\n",
    "# from sklearn.ensemble import AdaBoostClassifier\n",
    "# model = AdaBoostClassifier(n_estimators=100, learning_rate=0.2)\n",
    "\n",
    "# from sklearn import svm\n",
    "# model = svm.SVC()\n",
    "\n",
    "# model = XGBClassifier(max_depth=5)\n",
    "\n",
    "testsze = 0.3"
   ]
  },
  {
   "cell_type": "code",
   "execution_count": 133,
   "metadata": {},
   "outputs": [
    {
     "data": {
      "text/plain": [
       "array([ 0.82142857,  0.79285714,  0.85714286,  0.83571429,  0.84642857,\n",
       "        0.82142857,  0.825     ,  0.81362007,  0.82437276,  0.86379928])"
      ]
     },
     "execution_count": 133,
     "metadata": {},
     "output_type": "execute_result"
    }
   ],
   "source": [
    "# Test Model\n",
    "x_train, x_test, y_train, y_test = train_test_split(\n",
    "    traindata_full[use_columns],\n",
    "    traindata_full[target_column], test_size = testsze)\n",
    "\n",
    "estimator = model.fit(x_train, y_train)\n",
    "\n",
    "cross_val_score(estimator, x_test, y_test, cv=10)"
   ]
  },
  {
   "cell_type": "code",
   "execution_count": 134,
   "metadata": {
    "collapsed": true
   },
   "outputs": [],
   "source": [
    "# Find Parameters\n",
    "\n",
    "# from sklearn.model_selection import GridSearchCV\n",
    "# parameters = {'learning_rate':[0.01,0.05,0.1,0.2,0.3,0.5,0.7,1], 'n_estimators':[10,30,50,70,100,200,500,1000]}\n",
    "# model = AdaBoostClassifier()\n",
    "# clf = GridSearchCV(model, parameters)\n",
    "# clf.fit(x_train, y_train)\n",
    "# print(clf.best_params_)\n",
    "# print(clf.cv_results_)"
   ]
  },
  {
   "cell_type": "code",
   "execution_count": 135,
   "metadata": {
    "collapsed": true
   },
   "outputs": [],
   "source": [
    "# Find features important\n",
    "\n",
    "# from sklearn.feature_selection import SelectFromModel\n",
    "# model = SelectFromModel(estimator, prefit=True)\n",
    "\n",
    "# estimator.feature_importances_"
   ]
  },
  {
   "cell_type": "code",
   "execution_count": 136,
   "metadata": {
    "collapsed": true
   },
   "outputs": [],
   "source": [
    "# Save File\n",
    "import numpy as np\n",
    "predict_y = estimator.predict(testdata_full[use_columns])\n",
    "\n",
    "np.savetxt('2.txt', predict_y, fmt=\"%d\")"
   ]
  }
 ],
 "metadata": {
  "kernelspec": {
   "display_name": "Python 3",
   "language": "python",
   "name": "python3"
  },
  "language_info": {
   "codemirror_mode": {
    "name": "ipython",
    "version": 3
   },
   "file_extension": ".py",
   "mimetype": "text/x-python",
   "name": "python",
   "nbconvert_exporter": "python",
   "pygments_lexer": "ipython3",
   "version": "3.6.0"
  }
 },
 "nbformat": 4,
 "nbformat_minor": 2
}
