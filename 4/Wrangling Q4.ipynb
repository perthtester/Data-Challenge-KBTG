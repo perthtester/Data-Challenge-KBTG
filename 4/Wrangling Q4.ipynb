{
 "cells": [
  {
   "cell_type": "code",
   "execution_count": 1,
   "metadata": {
    "collapsed": true
   },
   "outputs": [],
   "source": [
    "import pandas as pd"
   ]
  },
  {
   "cell_type": "code",
   "execution_count": 8,
   "metadata": {
    "collapsed": true
   },
   "outputs": [],
   "source": [
    "accounts = pd.read_csv('account_info.csv')\n",
    "transactions = pd.read_csv('account_transaction.csv')"
   ]
  },
  {
   "cell_type": "code",
   "execution_count": 9,
   "metadata": {},
   "outputs": [
    {
     "data": {
      "text/html": [
       "<div>\n",
       "<table border=\"1\" class=\"dataframe\">\n",
       "  <thead>\n",
       "    <tr style=\"text-align: right;\">\n",
       "      <th></th>\n",
       "      <th>account_no</th>\n",
       "      <th>pos_dt</th>\n",
       "      <th>opn_dt</th>\n",
       "      <th>cls_dt</th>\n",
       "      <th>drmt_dys</th>\n",
       "    </tr>\n",
       "  </thead>\n",
       "  <tbody>\n",
       "    <tr>\n",
       "      <th>0</th>\n",
       "      <td>3450015338</td>\n",
       "      <td>2016-10-31 00:00:00.0</td>\n",
       "      <td>2007-01-29 00:00:00.0</td>\n",
       "      <td>NaN</td>\n",
       "      <td>1</td>\n",
       "    </tr>\n",
       "    <tr>\n",
       "      <th>1</th>\n",
       "      <td>3450046050</td>\n",
       "      <td>2016-10-31 00:00:00.0</td>\n",
       "      <td>2012-03-30 00:00:00.0</td>\n",
       "      <td>NaN</td>\n",
       "      <td>4</td>\n",
       "    </tr>\n",
       "    <tr>\n",
       "      <th>2</th>\n",
       "      <td>3450021593</td>\n",
       "      <td>2016-10-31 00:00:00.0</td>\n",
       "      <td>2005-02-24 00:00:00.0</td>\n",
       "      <td>NaN</td>\n",
       "      <td>0</td>\n",
       "    </tr>\n",
       "    <tr>\n",
       "      <th>3</th>\n",
       "      <td>3450004723</td>\n",
       "      <td>2016-10-31 00:00:00.0</td>\n",
       "      <td>2016-05-29 00:00:00.0</td>\n",
       "      <td>NaN</td>\n",
       "      <td>0</td>\n",
       "    </tr>\n",
       "    <tr>\n",
       "      <th>4</th>\n",
       "      <td>3450001685</td>\n",
       "      <td>2016-10-31 00:00:00.0</td>\n",
       "      <td>2016-01-06 00:00:00.0</td>\n",
       "      <td>NaN</td>\n",
       "      <td>0</td>\n",
       "    </tr>\n",
       "  </tbody>\n",
       "</table>\n",
       "</div>"
      ],
      "text/plain": [
       "   account_no                 pos_dt                 opn_dt cls_dt  drmt_dys\n",
       "0  3450015338  2016-10-31 00:00:00.0  2007-01-29 00:00:00.0    NaN         1\n",
       "1  3450046050  2016-10-31 00:00:00.0  2012-03-30 00:00:00.0    NaN         4\n",
       "2  3450021593  2016-10-31 00:00:00.0  2005-02-24 00:00:00.0    NaN         0\n",
       "3  3450004723  2016-10-31 00:00:00.0  2016-05-29 00:00:00.0    NaN         0\n",
       "4  3450001685  2016-10-31 00:00:00.0  2016-01-06 00:00:00.0    NaN         0"
      ]
     },
     "execution_count": 9,
     "metadata": {},
     "output_type": "execute_result"
    }
   ],
   "source": [
    "accounts.head()"
   ]
  },
  {
   "cell_type": "code",
   "execution_count": 13,
   "metadata": {},
   "outputs": [
    {
     "data": {
      "text/html": [
       "<div>\n",
       "<table border=\"1\" class=\"dataframe\">\n",
       "  <thead>\n",
       "    <tr style=\"text-align: right;\">\n",
       "      <th></th>\n",
       "      <th>account_no</th>\n",
       "      <th>drmt_dys</th>\n",
       "    </tr>\n",
       "  </thead>\n",
       "  <tbody>\n",
       "    <tr>\n",
       "      <th>count</th>\n",
       "      <td>5.400000e+03</td>\n",
       "      <td>5400.000000</td>\n",
       "    </tr>\n",
       "    <tr>\n",
       "      <th>mean</th>\n",
       "      <td>3.450022e+09</td>\n",
       "      <td>45.688889</td>\n",
       "    </tr>\n",
       "    <tr>\n",
       "      <th>std</th>\n",
       "      <td>1.527381e+04</td>\n",
       "      <td>312.581628</td>\n",
       "    </tr>\n",
       "    <tr>\n",
       "      <th>min</th>\n",
       "      <td>3.450000e+09</td>\n",
       "      <td>-1.000000</td>\n",
       "    </tr>\n",
       "    <tr>\n",
       "      <th>25%</th>\n",
       "      <td>3.450009e+09</td>\n",
       "      <td>0.000000</td>\n",
       "    </tr>\n",
       "    <tr>\n",
       "      <th>50%</th>\n",
       "      <td>3.450019e+09</td>\n",
       "      <td>1.000000</td>\n",
       "    </tr>\n",
       "    <tr>\n",
       "      <th>75%</th>\n",
       "      <td>3.450037e+09</td>\n",
       "      <td>12.000000</td>\n",
       "    </tr>\n",
       "    <tr>\n",
       "      <th>max</th>\n",
       "      <td>3.450050e+09</td>\n",
       "      <td>4835.000000</td>\n",
       "    </tr>\n",
       "  </tbody>\n",
       "</table>\n",
       "</div>"
      ],
      "text/plain": [
       "         account_no     drmt_dys\n",
       "count  5.400000e+03  5400.000000\n",
       "mean   3.450022e+09    45.688889\n",
       "std    1.527381e+04   312.581628\n",
       "min    3.450000e+09    -1.000000\n",
       "25%    3.450009e+09     0.000000\n",
       "50%    3.450019e+09     1.000000\n",
       "75%    3.450037e+09    12.000000\n",
       "max    3.450050e+09  4835.000000"
      ]
     },
     "execution_count": 13,
     "metadata": {},
     "output_type": "execute_result"
    }
   ],
   "source": [
    "accounts.describe()"
   ]
  },
  {
   "cell_type": "code",
   "execution_count": 14,
   "metadata": {},
   "outputs": [
    {
     "data": {
      "text/html": [
       "<div>\n",
       "<table border=\"1\" class=\"dataframe\">\n",
       "  <thead>\n",
       "    <tr style=\"text-align: right;\">\n",
       "      <th></th>\n",
       "      <th>pos_dt</th>\n",
       "      <th>opn_dt</th>\n",
       "      <th>cls_dt</th>\n",
       "    </tr>\n",
       "  </thead>\n",
       "  <tbody>\n",
       "    <tr>\n",
       "      <th>count</th>\n",
       "      <td>5400</td>\n",
       "      <td>5400</td>\n",
       "      <td>95</td>\n",
       "    </tr>\n",
       "    <tr>\n",
       "      <th>unique</th>\n",
       "      <td>3</td>\n",
       "      <td>2820</td>\n",
       "      <td>42</td>\n",
       "    </tr>\n",
       "    <tr>\n",
       "      <th>top</th>\n",
       "      <td>2016-10-31 00:00:00.0</td>\n",
       "      <td>1984-10-31 00:00:00.0</td>\n",
       "      <td>2016-09-06 00:00:00.0</td>\n",
       "    </tr>\n",
       "    <tr>\n",
       "      <th>freq</th>\n",
       "      <td>5320</td>\n",
       "      <td>24</td>\n",
       "      <td>7</td>\n",
       "    </tr>\n",
       "  </tbody>\n",
       "</table>\n",
       "</div>"
      ],
      "text/plain": [
       "                       pos_dt                 opn_dt                 cls_dt\n",
       "count                    5400                   5400                     95\n",
       "unique                      3                   2820                     42\n",
       "top     2016-10-31 00:00:00.0  1984-10-31 00:00:00.0  2016-09-06 00:00:00.0\n",
       "freq                     5320                     24                      7"
      ]
     },
     "execution_count": 14,
     "metadata": {},
     "output_type": "execute_result"
    }
   ],
   "source": [
    "accounts.describe(include=['O'])"
   ]
  },
  {
   "cell_type": "code",
   "execution_count": 10,
   "metadata": {},
   "outputs": [
    {
     "data": {
      "text/html": [
       "<div>\n",
       "<table border=\"1\" class=\"dataframe\">\n",
       "  <thead>\n",
       "    <tr style=\"text-align: right;\">\n",
       "      <th></th>\n",
       "      <th>account_no</th>\n",
       "      <th>fm_to_account_no</th>\n",
       "      <th>txn_amt</th>\n",
       "      <th>txn_dt</th>\n",
       "      <th>txn_tm</th>\n",
       "      <th>txn_type</th>\n",
       "    </tr>\n",
       "  </thead>\n",
       "  <tbody>\n",
       "    <tr>\n",
       "      <th>0</th>\n",
       "      <td>3450040137</td>\n",
       "      <td>3450082902</td>\n",
       "      <td>5000</td>\n",
       "      <td>2016-03-02 00:00:00.0</td>\n",
       "      <td>NaN</td>\n",
       "      <td>DR</td>\n",
       "    </tr>\n",
       "    <tr>\n",
       "      <th>1</th>\n",
       "      <td>3450011108</td>\n",
       "      <td>0</td>\n",
       "      <td>100</td>\n",
       "      <td>2016-05-28 00:00:00.0</td>\n",
       "      <td>NaN</td>\n",
       "      <td>DR</td>\n",
       "    </tr>\n",
       "    <tr>\n",
       "      <th>2</th>\n",
       "      <td>3450007981</td>\n",
       "      <td>3451020228</td>\n",
       "      <td>3800</td>\n",
       "      <td>2016-06-09 00:00:00.0</td>\n",
       "      <td>NaN</td>\n",
       "      <td>DR</td>\n",
       "    </tr>\n",
       "    <tr>\n",
       "      <th>3</th>\n",
       "      <td>3450032069</td>\n",
       "      <td>0</td>\n",
       "      <td>10000</td>\n",
       "      <td>2016-04-06 00:00:00.0</td>\n",
       "      <td>NaN</td>\n",
       "      <td>DR</td>\n",
       "    </tr>\n",
       "    <tr>\n",
       "      <th>4</th>\n",
       "      <td>3450003873</td>\n",
       "      <td>0</td>\n",
       "      <td>100</td>\n",
       "      <td>2016-08-05 00:00:00.0</td>\n",
       "      <td>NaN</td>\n",
       "      <td>DR</td>\n",
       "    </tr>\n",
       "  </tbody>\n",
       "</table>\n",
       "</div>"
      ],
      "text/plain": [
       "   account_no  fm_to_account_no  txn_amt                 txn_dt  txn_tm  \\\n",
       "0  3450040137        3450082902     5000  2016-03-02 00:00:00.0     NaN   \n",
       "1  3450011108                 0      100  2016-05-28 00:00:00.0     NaN   \n",
       "2  3450007981        3451020228     3800  2016-06-09 00:00:00.0     NaN   \n",
       "3  3450032069                 0    10000  2016-04-06 00:00:00.0     NaN   \n",
       "4  3450003873                 0      100  2016-08-05 00:00:00.0     NaN   \n",
       "\n",
       "  txn_type  \n",
       "0       DR  \n",
       "1       DR  \n",
       "2       DR  \n",
       "3       DR  \n",
       "4       DR  "
      ]
     },
     "execution_count": 10,
     "metadata": {},
     "output_type": "execute_result"
    }
   ],
   "source": [
    "transactions.head()"
   ]
  },
  {
   "cell_type": "code",
   "execution_count": 15,
   "metadata": {
    "scrolled": true
   },
   "outputs": [
    {
     "data": {
      "text/html": [
       "<div>\n",
       "<table border=\"1\" class=\"dataframe\">\n",
       "  <thead>\n",
       "    <tr style=\"text-align: right;\">\n",
       "      <th></th>\n",
       "      <th>account_no</th>\n",
       "      <th>fm_to_account_no</th>\n",
       "      <th>txn_amt</th>\n",
       "      <th>txn_tm</th>\n",
       "    </tr>\n",
       "  </thead>\n",
       "  <tbody>\n",
       "    <tr>\n",
       "      <th>count</th>\n",
       "      <td>7.970890e+05</td>\n",
       "      <td>7.970890e+05</td>\n",
       "      <td>7.970890e+05</td>\n",
       "      <td>0.0</td>\n",
       "    </tr>\n",
       "    <tr>\n",
       "      <th>mean</th>\n",
       "      <td>3.450022e+09</td>\n",
       "      <td>1.639429e+09</td>\n",
       "      <td>2.013894e+04</td>\n",
       "      <td>NaN</td>\n",
       "    </tr>\n",
       "    <tr>\n",
       "      <th>std</th>\n",
       "      <td>1.432403e+04</td>\n",
       "      <td>1.723151e+09</td>\n",
       "      <td>1.820097e+05</td>\n",
       "      <td>NaN</td>\n",
       "    </tr>\n",
       "    <tr>\n",
       "      <th>min</th>\n",
       "      <td>3.450000e+09</td>\n",
       "      <td>0.000000e+00</td>\n",
       "      <td>1.000000e+02</td>\n",
       "      <td>NaN</td>\n",
       "    </tr>\n",
       "    <tr>\n",
       "      <th>25%</th>\n",
       "      <td>3.450011e+09</td>\n",
       "      <td>0.000000e+00</td>\n",
       "      <td>4.000000e+02</td>\n",
       "      <td>NaN</td>\n",
       "    </tr>\n",
       "    <tr>\n",
       "      <th>50%</th>\n",
       "      <td>3.450021e+09</td>\n",
       "      <td>0.000000e+00</td>\n",
       "      <td>2.000000e+03</td>\n",
       "      <td>NaN</td>\n",
       "    </tr>\n",
       "    <tr>\n",
       "      <th>75%</th>\n",
       "      <td>3.450034e+09</td>\n",
       "      <td>3.450487e+09</td>\n",
       "      <td>1.000000e+04</td>\n",
       "      <td>NaN</td>\n",
       "    </tr>\n",
       "    <tr>\n",
       "      <th>max</th>\n",
       "      <td>3.450050e+09</td>\n",
       "      <td>3.451196e+09</td>\n",
       "      <td>1.250000e+08</td>\n",
       "      <td>NaN</td>\n",
       "    </tr>\n",
       "  </tbody>\n",
       "</table>\n",
       "</div>"
      ],
      "text/plain": [
       "         account_no  fm_to_account_no       txn_amt  txn_tm\n",
       "count  7.970890e+05      7.970890e+05  7.970890e+05     0.0\n",
       "mean   3.450022e+09      1.639429e+09  2.013894e+04     NaN\n",
       "std    1.432403e+04      1.723151e+09  1.820097e+05     NaN\n",
       "min    3.450000e+09      0.000000e+00  1.000000e+02     NaN\n",
       "25%    3.450011e+09      0.000000e+00  4.000000e+02     NaN\n",
       "50%    3.450021e+09      0.000000e+00  2.000000e+03     NaN\n",
       "75%    3.450034e+09      3.450487e+09  1.000000e+04     NaN\n",
       "max    3.450050e+09      3.451196e+09  1.250000e+08     NaN"
      ]
     },
     "execution_count": 15,
     "metadata": {},
     "output_type": "execute_result"
    }
   ],
   "source": [
    "transactions.describe()"
   ]
  },
  {
   "cell_type": "code",
   "execution_count": 16,
   "metadata": {},
   "outputs": [
    {
     "data": {
      "text/html": [
       "<div>\n",
       "<table border=\"1\" class=\"dataframe\">\n",
       "  <thead>\n",
       "    <tr style=\"text-align: right;\">\n",
       "      <th></th>\n",
       "      <th>txn_dt</th>\n",
       "      <th>txn_type</th>\n",
       "    </tr>\n",
       "  </thead>\n",
       "  <tbody>\n",
       "    <tr>\n",
       "      <th>count</th>\n",
       "      <td>797089</td>\n",
       "      <td>797089</td>\n",
       "    </tr>\n",
       "    <tr>\n",
       "      <th>unique</th>\n",
       "      <td>261</td>\n",
       "      <td>2</td>\n",
       "    </tr>\n",
       "    <tr>\n",
       "      <th>top</th>\n",
       "      <td>2016-09-30 00:00:00.0</td>\n",
       "      <td>DR</td>\n",
       "    </tr>\n",
       "    <tr>\n",
       "      <th>freq</th>\n",
       "      <td>5074</td>\n",
       "      <td>529515</td>\n",
       "    </tr>\n",
       "  </tbody>\n",
       "</table>\n",
       "</div>"
      ],
      "text/plain": [
       "                       txn_dt txn_type\n",
       "count                  797089   797089\n",
       "unique                    261        2\n",
       "top     2016-09-30 00:00:00.0       DR\n",
       "freq                     5074   529515"
      ]
     },
     "execution_count": 16,
     "metadata": {},
     "output_type": "execute_result"
    }
   ],
   "source": [
    "transactions.describe(include=['O'])"
   ]
  },
  {
   "cell_type": "code",
   "execution_count": 17,
   "metadata": {},
   "outputs": [
    {
     "data": {
      "text/plain": [
       "DR    529515\n",
       "CR    267574\n",
       "Name: txn_type, dtype: int64"
      ]
     },
     "execution_count": 17,
     "metadata": {},
     "output_type": "execute_result"
    }
   ],
   "source": [
    "transactions['txn_type'].value_counts()"
   ]
  },
  {
   "cell_type": "code",
   "execution_count": 18,
   "metadata": {
    "collapsed": true
   },
   "outputs": [],
   "source": [
    "transactions_dr = transactions[transactions['txn_type'] == 'DR']\n",
    "transactions_cr = transactions[transactions['txn_type'] == 'CR']"
   ]
  },
  {
   "cell_type": "code",
   "execution_count": 169,
   "metadata": {
    "collapsed": true
   },
   "outputs": [],
   "source": [
    "acc_cr = transactions_cr[['account_no', 'txn_amt']].groupby('account_no').agg(['mean', 'count', 'sum'])\n",
    "\n",
    "acc_cr2 = pd.DataFrame({\n",
    "    'account_no': acc_cr.index.values,\n",
    "    'cr_mean': acc_cr['txn_amt']['mean'],\n",
    "    'cr_count': acc_cr['txn_amt']['count'],\n",
    "    'cr_sum': acc_cr['txn_amt']['sum']\n",
    "})"
   ]
  },
  {
   "cell_type": "code",
   "execution_count": 170,
   "metadata": {
    "collapsed": true
   },
   "outputs": [],
   "source": [
    "acc_dr = transactions_dr[['account_no', 'txn_amt']].groupby('account_no').agg(['mean', 'count', 'sum'])\n",
    "\n",
    "acc_dr2 = pd.DataFrame({\n",
    "    'account_no': acc_dr.index.values,\n",
    "    'dr_mean': acc_dr['txn_amt']['mean'],\n",
    "    'dr_count': acc_dr['txn_amt']['count'],\n",
    "    'dr_sum': acc_dr['txn_amt']['sum']\n",
    "})\n",
    "# acc_dr['account_no'] = acc_dr.index.values\n",
    "# acc_dr['dr_mean'] = acc_dr['txn_amt']['mean']\n",
    "# acc_dr['dr_count'] = acc_dr['txn_amt']['count']\n",
    "# acc_dr['dr_sum'] = acc_dr['txn_amt']['sum']\n",
    "\n",
    "# acc_dr.drop('txn_amt',inplace=True,axis=1)"
   ]
  },
  {
   "cell_type": "code",
   "execution_count": 171,
   "metadata": {
    "collapsed": true
   },
   "outputs": [],
   "source": [
    "# Merge 2 Tables\n",
    "acc_crdr = acc_cr2.merge(acc_dr2, how='outer', on='account_no')\n",
    "acc_crdr = acc_crdr.fillna(0)"
   ]
  },
  {
   "cell_type": "code",
   "execution_count": 172,
   "metadata": {
    "collapsed": true
   },
   "outputs": [],
   "source": [
    "acc_crdr.head()\n",
    "acc_crdr['crdr_sum'] = acc_crdr['cr_sum'] - acc_crdr['dr_sum']\n",
    "acc_crdr['crdr_mean'] = acc_crdr['cr_mean'] - acc_crdr['dr_mean']\n",
    "acc_crdr['crdr_count'] = acc_crdr['cr_count'] - acc_crdr['dr_count']"
   ]
  },
  {
   "cell_type": "code",
   "execution_count": 173,
   "metadata": {
    "collapsed": true
   },
   "outputs": [],
   "source": [
    "testdata = pd.read_csv('tj_04_test.csv', header=None)\n",
    "traindata = pd.read_csv('tj_04_training.csv', header=None)"
   ]
  },
  {
   "cell_type": "code",
   "execution_count": 174,
   "metadata": {
    "collapsed": true
   },
   "outputs": [],
   "source": [
    "traindata.columns = ['account_no', 'label']\n",
    "testdata.columns = ['account_no']"
   ]
  },
  {
   "cell_type": "code",
   "execution_count": 175,
   "metadata": {
    "collapsed": true
   },
   "outputs": [],
   "source": [
    "traindata_full = traindata.merge(acc_crdr, how='left', on='account_no')\n",
    "testdata_full = testdata.merge(acc_crdr, how='left', on='account_no')"
   ]
  },
  {
   "cell_type": "code",
   "execution_count": 176,
   "metadata": {},
   "outputs": [
    {
     "data": {
      "text/html": [
       "<div>\n",
       "<table border=\"1\" class=\"dataframe\">\n",
       "  <thead>\n",
       "    <tr style=\"text-align: right;\">\n",
       "      <th></th>\n",
       "      <th>account_no</th>\n",
       "      <th>label</th>\n",
       "      <th>cr_count</th>\n",
       "      <th>cr_mean</th>\n",
       "      <th>cr_sum</th>\n",
       "      <th>dr_count</th>\n",
       "      <th>dr_mean</th>\n",
       "      <th>dr_sum</th>\n",
       "      <th>crdr_sum</th>\n",
       "      <th>crdr_mean</th>\n",
       "      <th>crdr_count</th>\n",
       "    </tr>\n",
       "  </thead>\n",
       "  <tbody>\n",
       "    <tr>\n",
       "      <th>0</th>\n",
       "      <td>3450002243</td>\n",
       "      <td>sa</td>\n",
       "      <td>124.0</td>\n",
       "      <td>18208.870968</td>\n",
       "      <td>2257900.0</td>\n",
       "      <td>13.0</td>\n",
       "      <td>116700.000000</td>\n",
       "      <td>1517100.0</td>\n",
       "      <td>740800.0</td>\n",
       "      <td>-98491.129032</td>\n",
       "      <td>111.0</td>\n",
       "    </tr>\n",
       "    <tr>\n",
       "      <th>1</th>\n",
       "      <td>3450013179</td>\n",
       "      <td>sa</td>\n",
       "      <td>42.0</td>\n",
       "      <td>20876.190476</td>\n",
       "      <td>876800.0</td>\n",
       "      <td>187.0</td>\n",
       "      <td>5729.946524</td>\n",
       "      <td>1071500.0</td>\n",
       "      <td>-194700.0</td>\n",
       "      <td>15146.243952</td>\n",
       "      <td>-145.0</td>\n",
       "    </tr>\n",
       "    <tr>\n",
       "      <th>2</th>\n",
       "      <td>3450005173</td>\n",
       "      <td>sa</td>\n",
       "      <td>97.0</td>\n",
       "      <td>20590.721649</td>\n",
       "      <td>1997300.0</td>\n",
       "      <td>72.0</td>\n",
       "      <td>21976.388889</td>\n",
       "      <td>1582300.0</td>\n",
       "      <td>415000.0</td>\n",
       "      <td>-1385.667239</td>\n",
       "      <td>25.0</td>\n",
       "    </tr>\n",
       "    <tr>\n",
       "      <th>3</th>\n",
       "      <td>3450034206</td>\n",
       "      <td>sa</td>\n",
       "      <td>36.0</td>\n",
       "      <td>16150.000000</td>\n",
       "      <td>581400.0</td>\n",
       "      <td>104.0</td>\n",
       "      <td>6490.384615</td>\n",
       "      <td>675000.0</td>\n",
       "      <td>-93600.0</td>\n",
       "      <td>9659.615385</td>\n",
       "      <td>-68.0</td>\n",
       "    </tr>\n",
       "    <tr>\n",
       "      <th>4</th>\n",
       "      <td>3450033428</td>\n",
       "      <td>sa</td>\n",
       "      <td>38.0</td>\n",
       "      <td>13894.736842</td>\n",
       "      <td>528000.0</td>\n",
       "      <td>139.0</td>\n",
       "      <td>9005.755396</td>\n",
       "      <td>1251800.0</td>\n",
       "      <td>-723800.0</td>\n",
       "      <td>4888.981446</td>\n",
       "      <td>-101.0</td>\n",
       "    </tr>\n",
       "    <tr>\n",
       "      <th>5</th>\n",
       "      <td>3450013510</td>\n",
       "      <td>ca</td>\n",
       "      <td>24.0</td>\n",
       "      <td>28191.666667</td>\n",
       "      <td>676600.0</td>\n",
       "      <td>14.0</td>\n",
       "      <td>16342.857143</td>\n",
       "      <td>228800.0</td>\n",
       "      <td>447800.0</td>\n",
       "      <td>11848.809524</td>\n",
       "      <td>10.0</td>\n",
       "    </tr>\n",
       "    <tr>\n",
       "      <th>6</th>\n",
       "      <td>3450008002</td>\n",
       "      <td>sa</td>\n",
       "      <td>52.0</td>\n",
       "      <td>12473.076923</td>\n",
       "      <td>648600.0</td>\n",
       "      <td>166.0</td>\n",
       "      <td>2729.518072</td>\n",
       "      <td>453100.0</td>\n",
       "      <td>195500.0</td>\n",
       "      <td>9743.558851</td>\n",
       "      <td>-114.0</td>\n",
       "    </tr>\n",
       "    <tr>\n",
       "      <th>7</th>\n",
       "      <td>3450047667</td>\n",
       "      <td>sa</td>\n",
       "      <td>104.0</td>\n",
       "      <td>374771.153846</td>\n",
       "      <td>38976200.0</td>\n",
       "      <td>191.0</td>\n",
       "      <td>238513.612565</td>\n",
       "      <td>45556100.0</td>\n",
       "      <td>-6579900.0</td>\n",
       "      <td>136257.541281</td>\n",
       "      <td>-87.0</td>\n",
       "    </tr>\n",
       "    <tr>\n",
       "      <th>8</th>\n",
       "      <td>3450014208</td>\n",
       "      <td>sa</td>\n",
       "      <td>94.0</td>\n",
       "      <td>7643.617021</td>\n",
       "      <td>718500.0</td>\n",
       "      <td>95.0</td>\n",
       "      <td>6356.842105</td>\n",
       "      <td>603900.0</td>\n",
       "      <td>114600.0</td>\n",
       "      <td>1286.774916</td>\n",
       "      <td>-1.0</td>\n",
       "    </tr>\n",
       "    <tr>\n",
       "      <th>9</th>\n",
       "      <td>3450048058</td>\n",
       "      <td>ca</td>\n",
       "      <td>10.0</td>\n",
       "      <td>36230.000000</td>\n",
       "      <td>362300.0</td>\n",
       "      <td>8.0</td>\n",
       "      <td>17412.500000</td>\n",
       "      <td>139300.0</td>\n",
       "      <td>223000.0</td>\n",
       "      <td>18817.500000</td>\n",
       "      <td>2.0</td>\n",
       "    </tr>\n",
       "  </tbody>\n",
       "</table>\n",
       "</div>"
      ],
      "text/plain": [
       "   account_no label  cr_count        cr_mean      cr_sum  dr_count  \\\n",
       "0  3450002243    sa     124.0   18208.870968   2257900.0      13.0   \n",
       "1  3450013179    sa      42.0   20876.190476    876800.0     187.0   \n",
       "2  3450005173    sa      97.0   20590.721649   1997300.0      72.0   \n",
       "3  3450034206    sa      36.0   16150.000000    581400.0     104.0   \n",
       "4  3450033428    sa      38.0   13894.736842    528000.0     139.0   \n",
       "5  3450013510    ca      24.0   28191.666667    676600.0      14.0   \n",
       "6  3450008002    sa      52.0   12473.076923    648600.0     166.0   \n",
       "7  3450047667    sa     104.0  374771.153846  38976200.0     191.0   \n",
       "8  3450014208    sa      94.0    7643.617021    718500.0      95.0   \n",
       "9  3450048058    ca      10.0   36230.000000    362300.0       8.0   \n",
       "\n",
       "         dr_mean      dr_sum   crdr_sum      crdr_mean  crdr_count  \n",
       "0  116700.000000   1517100.0   740800.0  -98491.129032       111.0  \n",
       "1    5729.946524   1071500.0  -194700.0   15146.243952      -145.0  \n",
       "2   21976.388889   1582300.0   415000.0   -1385.667239        25.0  \n",
       "3    6490.384615    675000.0   -93600.0    9659.615385       -68.0  \n",
       "4    9005.755396   1251800.0  -723800.0    4888.981446      -101.0  \n",
       "5   16342.857143    228800.0   447800.0   11848.809524        10.0  \n",
       "6    2729.518072    453100.0   195500.0    9743.558851      -114.0  \n",
       "7  238513.612565  45556100.0 -6579900.0  136257.541281       -87.0  \n",
       "8    6356.842105    603900.0   114600.0    1286.774916        -1.0  \n",
       "9   17412.500000    139300.0   223000.0   18817.500000         2.0  "
      ]
     },
     "execution_count": 176,
     "metadata": {},
     "output_type": "execute_result"
    }
   ],
   "source": [
    "traindata_full.head(10)"
   ]
  },
  {
   "cell_type": "code",
   "execution_count": 177,
   "metadata": {
    "collapsed": true
   },
   "outputs": [],
   "source": [
    "# Let sa = 0, and ca = 1\n",
    "traindata_full['label'] = traindata_full['label'].replace({'sa': 0, 'ca': 1})"
   ]
  },
  {
   "cell_type": "code",
   "execution_count": 178,
   "metadata": {},
   "outputs": [
    {
     "data": {
      "text/html": [
       "<div>\n",
       "<table border=\"1\" class=\"dataframe\">\n",
       "  <thead>\n",
       "    <tr style=\"text-align: right;\">\n",
       "      <th></th>\n",
       "      <th>account_no</th>\n",
       "      <th>label</th>\n",
       "      <th>cr_count</th>\n",
       "      <th>cr_mean</th>\n",
       "      <th>cr_sum</th>\n",
       "      <th>dr_count</th>\n",
       "      <th>dr_mean</th>\n",
       "      <th>dr_sum</th>\n",
       "      <th>crdr_sum</th>\n",
       "      <th>crdr_mean</th>\n",
       "      <th>crdr_count</th>\n",
       "    </tr>\n",
       "  </thead>\n",
       "  <tbody>\n",
       "    <tr>\n",
       "      <th>0</th>\n",
       "      <td>3450002243</td>\n",
       "      <td>0</td>\n",
       "      <td>124.0</td>\n",
       "      <td>18208.870968</td>\n",
       "      <td>2257900.0</td>\n",
       "      <td>13.0</td>\n",
       "      <td>116700.000000</td>\n",
       "      <td>1517100.0</td>\n",
       "      <td>740800.0</td>\n",
       "      <td>-98491.129032</td>\n",
       "      <td>111.0</td>\n",
       "    </tr>\n",
       "    <tr>\n",
       "      <th>1</th>\n",
       "      <td>3450013179</td>\n",
       "      <td>0</td>\n",
       "      <td>42.0</td>\n",
       "      <td>20876.190476</td>\n",
       "      <td>876800.0</td>\n",
       "      <td>187.0</td>\n",
       "      <td>5729.946524</td>\n",
       "      <td>1071500.0</td>\n",
       "      <td>-194700.0</td>\n",
       "      <td>15146.243952</td>\n",
       "      <td>-145.0</td>\n",
       "    </tr>\n",
       "    <tr>\n",
       "      <th>2</th>\n",
       "      <td>3450005173</td>\n",
       "      <td>0</td>\n",
       "      <td>97.0</td>\n",
       "      <td>20590.721649</td>\n",
       "      <td>1997300.0</td>\n",
       "      <td>72.0</td>\n",
       "      <td>21976.388889</td>\n",
       "      <td>1582300.0</td>\n",
       "      <td>415000.0</td>\n",
       "      <td>-1385.667239</td>\n",
       "      <td>25.0</td>\n",
       "    </tr>\n",
       "    <tr>\n",
       "      <th>3</th>\n",
       "      <td>3450034206</td>\n",
       "      <td>0</td>\n",
       "      <td>36.0</td>\n",
       "      <td>16150.000000</td>\n",
       "      <td>581400.0</td>\n",
       "      <td>104.0</td>\n",
       "      <td>6490.384615</td>\n",
       "      <td>675000.0</td>\n",
       "      <td>-93600.0</td>\n",
       "      <td>9659.615385</td>\n",
       "      <td>-68.0</td>\n",
       "    </tr>\n",
       "    <tr>\n",
       "      <th>4</th>\n",
       "      <td>3450033428</td>\n",
       "      <td>0</td>\n",
       "      <td>38.0</td>\n",
       "      <td>13894.736842</td>\n",
       "      <td>528000.0</td>\n",
       "      <td>139.0</td>\n",
       "      <td>9005.755396</td>\n",
       "      <td>1251800.0</td>\n",
       "      <td>-723800.0</td>\n",
       "      <td>4888.981446</td>\n",
       "      <td>-101.0</td>\n",
       "    </tr>\n",
       "    <tr>\n",
       "      <th>5</th>\n",
       "      <td>3450013510</td>\n",
       "      <td>1</td>\n",
       "      <td>24.0</td>\n",
       "      <td>28191.666667</td>\n",
       "      <td>676600.0</td>\n",
       "      <td>14.0</td>\n",
       "      <td>16342.857143</td>\n",
       "      <td>228800.0</td>\n",
       "      <td>447800.0</td>\n",
       "      <td>11848.809524</td>\n",
       "      <td>10.0</td>\n",
       "    </tr>\n",
       "    <tr>\n",
       "      <th>6</th>\n",
       "      <td>3450008002</td>\n",
       "      <td>0</td>\n",
       "      <td>52.0</td>\n",
       "      <td>12473.076923</td>\n",
       "      <td>648600.0</td>\n",
       "      <td>166.0</td>\n",
       "      <td>2729.518072</td>\n",
       "      <td>453100.0</td>\n",
       "      <td>195500.0</td>\n",
       "      <td>9743.558851</td>\n",
       "      <td>-114.0</td>\n",
       "    </tr>\n",
       "    <tr>\n",
       "      <th>7</th>\n",
       "      <td>3450047667</td>\n",
       "      <td>0</td>\n",
       "      <td>104.0</td>\n",
       "      <td>374771.153846</td>\n",
       "      <td>38976200.0</td>\n",
       "      <td>191.0</td>\n",
       "      <td>238513.612565</td>\n",
       "      <td>45556100.0</td>\n",
       "      <td>-6579900.0</td>\n",
       "      <td>136257.541281</td>\n",
       "      <td>-87.0</td>\n",
       "    </tr>\n",
       "    <tr>\n",
       "      <th>8</th>\n",
       "      <td>3450014208</td>\n",
       "      <td>0</td>\n",
       "      <td>94.0</td>\n",
       "      <td>7643.617021</td>\n",
       "      <td>718500.0</td>\n",
       "      <td>95.0</td>\n",
       "      <td>6356.842105</td>\n",
       "      <td>603900.0</td>\n",
       "      <td>114600.0</td>\n",
       "      <td>1286.774916</td>\n",
       "      <td>-1.0</td>\n",
       "    </tr>\n",
       "    <tr>\n",
       "      <th>9</th>\n",
       "      <td>3450048058</td>\n",
       "      <td>1</td>\n",
       "      <td>10.0</td>\n",
       "      <td>36230.000000</td>\n",
       "      <td>362300.0</td>\n",
       "      <td>8.0</td>\n",
       "      <td>17412.500000</td>\n",
       "      <td>139300.0</td>\n",
       "      <td>223000.0</td>\n",
       "      <td>18817.500000</td>\n",
       "      <td>2.0</td>\n",
       "    </tr>\n",
       "  </tbody>\n",
       "</table>\n",
       "</div>"
      ],
      "text/plain": [
       "   account_no  label  cr_count        cr_mean      cr_sum  dr_count  \\\n",
       "0  3450002243      0     124.0   18208.870968   2257900.0      13.0   \n",
       "1  3450013179      0      42.0   20876.190476    876800.0     187.0   \n",
       "2  3450005173      0      97.0   20590.721649   1997300.0      72.0   \n",
       "3  3450034206      0      36.0   16150.000000    581400.0     104.0   \n",
       "4  3450033428      0      38.0   13894.736842    528000.0     139.0   \n",
       "5  3450013510      1      24.0   28191.666667    676600.0      14.0   \n",
       "6  3450008002      0      52.0   12473.076923    648600.0     166.0   \n",
       "7  3450047667      0     104.0  374771.153846  38976200.0     191.0   \n",
       "8  3450014208      0      94.0    7643.617021    718500.0      95.0   \n",
       "9  3450048058      1      10.0   36230.000000    362300.0       8.0   \n",
       "\n",
       "         dr_mean      dr_sum   crdr_sum      crdr_mean  crdr_count  \n",
       "0  116700.000000   1517100.0   740800.0  -98491.129032       111.0  \n",
       "1    5729.946524   1071500.0  -194700.0   15146.243952      -145.0  \n",
       "2   21976.388889   1582300.0   415000.0   -1385.667239        25.0  \n",
       "3    6490.384615    675000.0   -93600.0    9659.615385       -68.0  \n",
       "4    9005.755396   1251800.0  -723800.0    4888.981446      -101.0  \n",
       "5   16342.857143    228800.0   447800.0   11848.809524        10.0  \n",
       "6    2729.518072    453100.0   195500.0    9743.558851      -114.0  \n",
       "7  238513.612565  45556100.0 -6579900.0  136257.541281       -87.0  \n",
       "8    6356.842105    603900.0   114600.0    1286.774916        -1.0  \n",
       "9   17412.500000    139300.0   223000.0   18817.500000         2.0  "
      ]
     },
     "execution_count": 178,
     "metadata": {},
     "output_type": "execute_result"
    }
   ],
   "source": [
    "traindata_full.head(10)"
   ]
  },
  {
   "cell_type": "code",
   "execution_count": 179,
   "metadata": {
    "collapsed": true
   },
   "outputs": [],
   "source": [
    "# Predict\n",
    "from sklearn.model_selection import cross_val_score, train_test_split"
   ]
  },
  {
   "cell_type": "code",
   "execution_count": 235,
   "metadata": {
    "collapsed": true
   },
   "outputs": [],
   "source": [
    "# Settings\n",
    "use_columns = [\n",
    "#                 'cr_count',\n",
    "#                 'cr_sum',\n",
    "#                 'cr_mean',\n",
    "                'dr_count',\n",
    "#                 'dr_sum',\n",
    "                'dr_mean',\n",
    "#                 'crdr_sum',\n",
    "#                 'crdr_mean',\n",
    "                'crdr_count'\n",
    "]\n",
    "\n",
    "target_column = 'label'\n",
    "\n",
    "# from sklearn.naive_bayes import GaussianNB\n",
    "# model = GaussianNB()\n",
    "\n",
    "# from sklearn.ensemble import RandomForestClassifier\n",
    "# model = RandomForestClassifier(n_estimators=100)\n",
    "\n",
    "from sklearn.ensemble import AdaBoostClassifier\n",
    "model = AdaBoostClassifier(n_estimators=100, learning_rate=0.2)\n",
    "\n",
    "# from sklearn import svm\n",
    "# model = svm.SVC()\n",
    "\n",
    "# model = XGBClassifier(max_depth=5)\n",
    "\n",
    "testsze = 0.3"
   ]
  },
  {
   "cell_type": "code",
   "execution_count": 236,
   "metadata": {},
   "outputs": [
    {
     "data": {
      "text/plain": [
       "array([ 0.90839695,  0.95419847,  0.91538462,  0.86923077,  0.89147287,\n",
       "        0.89922481,  0.86821705,  0.91472868,  0.89147287,  0.89147287])"
      ]
     },
     "execution_count": 236,
     "metadata": {},
     "output_type": "execute_result"
    }
   ],
   "source": [
    "# Test Model\n",
    "x_train, x_test, y_train, y_test = train_test_split(\n",
    "    traindata_full[use_columns],\n",
    "    traindata_full[target_column], test_size = testsze)\n",
    "\n",
    "estimator = model.fit(x_train, y_train)\n",
    "\n",
    "cross_val_score(estimator, x_test, y_test, cv=10)"
   ]
  },
  {
   "cell_type": "code",
   "execution_count": 232,
   "metadata": {
    "collapsed": true
   },
   "outputs": [],
   "source": [
    "# from sklearn.model_selection import GridSearchCV\n",
    "# parameters = {'learning_rate':[0.01,0.05,0.1,0.2,0.3,0.5,0.7,1], 'n_estimators':[10,30,50,70,100,200,500,1000]}\n",
    "# model = AdaBoostClassifier()\n",
    "# clf = GridSearchCV(model, parameters)\n",
    "# clf.fit(x_train, y_train)\n",
    "# print(clf.best_params_)\n",
    "# print(clf.cv_results_)"
   ]
  },
  {
   "cell_type": "code",
   "execution_count": 241,
   "metadata": {},
   "outputs": [
    {
     "data": {
      "text/plain": [
       "SelectFromModel(estimator=AdaBoostClassifier(algorithm='SAMME.R', base_estimator=None,\n",
       "          learning_rate=0.2, n_estimators=100, random_state=None),\n",
       "        prefit=True, threshold=None)"
      ]
     },
     "execution_count": 241,
     "metadata": {},
     "output_type": "execute_result"
    }
   ],
   "source": [
    "# from sklearn.feature_selection import SelectFromModel\n",
    "# model = SelectFromModel(estimator, prefit=True)\n",
    "\n",
    "# estimator.feature_importances_"
   ]
  },
  {
   "cell_type": "code",
   "execution_count": 238,
   "metadata": {
    "collapsed": true
   },
   "outputs": [],
   "source": [
    "# Save File\n",
    "predict_y = estimator.predict(testdata_full[use_columns])\n",
    "\n",
    "# Convert back\n",
    "predict_df = pd.DataFrame(predict_y)\n",
    "predict_df = predict_df.replace({0: 'sa', 1: 'ca'})\n",
    "\n",
    "import numpy as np\n",
    "np.savetxt('4.txt', predict_df[0].values, fmt=\"%s\")"
   ]
  }
 ],
 "metadata": {
  "kernelspec": {
   "display_name": "Python 3",
   "language": "python",
   "name": "python3"
  },
  "language_info": {
   "codemirror_mode": {
    "name": "ipython",
    "version": 3
   },
   "file_extension": ".py",
   "mimetype": "text/x-python",
   "name": "python",
   "nbconvert_exporter": "python",
   "pygments_lexer": "ipython3",
   "version": "3.6.0"
  }
 },
 "nbformat": 4,
 "nbformat_minor": 2
}
